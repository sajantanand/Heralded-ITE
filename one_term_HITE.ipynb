{
 "cells": [
  {
   "cell_type": "code",
   "execution_count": 1,
   "id": "43d62933-6d35-4c1e-a982-c1574169c296",
   "metadata": {},
   "outputs": [],
   "source": [
    "import numpy as np\n",
    "import scipy as sp\n",
    "import matplotlib.pyplot as plt"
   ]
  },
  {
   "cell_type": "code",
   "execution_count": 2,
   "id": "09055e11-bfd1-4399-9701-59185b7eeb6a",
   "metadata": {},
   "outputs": [],
   "source": [
    "Z = np.array([[1,0],[0,-1]])\n",
    "Y = np.array([[0,-1.j],[1.j,0]])\n",
    "X = np.array([[0,1],[1,0]])\n",
    "I = np.eye(2)\n",
    "\n",
    "H = Z + np.eye(2) # Shift Hamiltonian so its spectrum is [0, lambda_1, ...]; non-negative"
   ]
  },
  {
   "cell_type": "markdown",
   "id": "b249bd60-4ce3-4f82-84b3-337bfce67469",
   "metadata": {},
   "source": [
    "Generate random 1-qubit normalized wavefunction."
   ]
  },
  {
   "cell_type": "code",
   "execution_count": 3,
   "id": "88bc9249-98f2-4257-ac52-b9d8d562ea9c",
   "metadata": {},
   "outputs": [
    {
     "name": "stdout",
     "output_type": "stream",
     "text": [
      "[0.6241809 +0.60370523j 0.34513954+0.3561136j ]\n"
     ]
    }
   ],
   "source": [
    "psi = np.random.rand(2) + 1.j*np.random.rand(2)\n",
    "#psi = np.array([0,1], dtype=np.float64)\n",
    "psi /= np.linalg.norm(psi)\n",
    "print(psi)"
   ]
  },
  {
   "cell_type": "code",
   "execution_count": 4,
   "id": "925f8daa-3f69-4f3f-95b0-110b12bb1efc",
   "metadata": {},
   "outputs": [
    {
     "name": "stdout",
     "output_type": "stream",
     "text": [
      "0.0\n"
     ]
    }
   ],
   "source": [
    "GS = np.array([0,1]) # Ground state of H = Z\n",
    "E_GS = GS @ H @ GS\n",
    "print(E_GS)"
   ]
  },
  {
   "cell_type": "code",
   "execution_count": 5,
   "id": "4efbe031-ad12-4d16-9e21-0e536c37e320",
   "metadata": {},
   "outputs": [
    {
     "name": "stdout",
     "output_type": "stream",
     "text": [
      "(1.5081236033282286+0j)\n",
      "0.2459381983358858\n"
     ]
    }
   ],
   "source": [
    "print(psi.conj() @ H @ psi) # Initial energy\n",
    "print(np.abs(psi.conj().T @ GS)**2) # Initial overlap**2"
   ]
  },
  {
   "cell_type": "markdown",
   "id": "7fdf8761-6596-4b17-90ff-146d48da6536",
   "metadata": {},
   "source": [
    "# Block encoding"
   ]
  },
  {
   "cell_type": "code",
   "execution_count": 6,
   "id": "73aaf014-d416-45d6-87c9-238cee1339ec",
   "metadata": {},
   "outputs": [
    {
     "name": "stdout",
     "output_type": "stream",
     "text": [
      "[[0.81873075 0.        ]\n",
      " [0.         1.        ]]\n"
     ]
    }
   ],
   "source": [
    "beta = 0.1\n",
    "gamma = sp.linalg.expm(-beta*H) # Diagonal ITE matrix\n",
    "print(gamma)"
   ]
  },
  {
   "cell_type": "code",
   "execution_count": 7,
   "id": "825fc405-1d71-4fb9-970c-c7e2570c3c17",
   "metadata": {},
   "outputs": [],
   "source": [
    "U_gamma = np.zeros((4,4), dtype=gamma.dtype) # 2-qubit block encoding; no controlled permutation\n",
    "U_gamma[:2,:2] = gamma\n",
    "#U_gamma[2:,:2] = U_gamma[:2,2:] = sp.linalg.fractional_matrix_power(1 - sp.linalg.fractional_matrix_power(gamma, 2.0), 0.5)\n",
    "U_gamma[2:,:2] = U_gamma[:2,2:] = np.sqrt(np.eye(2) - gamma**2)\n",
    "U_gamma[2:,2:] = -gamma"
   ]
  },
  {
   "cell_type": "code",
   "execution_count": 8,
   "id": "49874c60-57d1-433c-afea-5625d9129856",
   "metadata": {},
   "outputs": [
    {
     "data": {
      "text/plain": [
       "array([[0.63103225+0.38569605j, 0.53552872-0.45447916j],\n",
       "       [0.53552872-0.45447916j, 0.45447916+0.53552872j]])"
      ]
     },
     "execution_count": 8,
     "metadata": {},
     "output_type": "execute_result"
    }
   ],
   "source": [
    "sp.linalg.fractional_matrix_power(1 - sp.linalg.fractional_matrix_power(gamma, 2.0), 0.5)"
   ]
  },
  {
   "cell_type": "code",
   "execution_count": 9,
   "id": "7698c647-4ca4-4446-b684-e075f623666f",
   "metadata": {},
   "outputs": [
    {
     "data": {
      "text/plain": [
       "array([[0.57417763, 0.        ],\n",
       "       [0.        , 0.        ]])"
      ]
     },
     "execution_count": 9,
     "metadata": {},
     "output_type": "execute_result"
    }
   ],
   "source": [
    "np.sqrt(np.eye(2) - gamma**2)"
   ]
  },
  {
   "cell_type": "code",
   "execution_count": 10,
   "id": "71f0fc91-e7c6-4a9f-b088-17bb71d24492",
   "metadata": {},
   "outputs": [
    {
     "data": {
      "text/plain": [
       "2.429468200843727e-17"
      ]
     },
     "execution_count": 10,
     "metadata": {},
     "output_type": "execute_result"
    }
   ],
   "source": [
    "np.linalg.norm(U_gamma @ U_gamma.conj().T - np.eye(4)) # Check that it's unitary"
   ]
  },
  {
   "cell_type": "markdown",
   "id": "b209d8ae-eb39-453c-8ec7-6a67bf5c1fbb",
   "metadata": {},
   "source": [
    "# Enlarged state"
   ]
  },
  {
   "cell_type": "code",
   "execution_count": 11,
   "id": "eaf58068-23e8-449a-8d38-f759be74084f",
   "metadata": {},
   "outputs": [
    {
     "name": "stdout",
     "output_type": "stream",
     "text": [
      "[0.6241809 +0.60370523j 0.34513954+0.3561136j  0.        +0.j\n",
      " 0.        +0.j        ]\n"
     ]
    }
   ],
   "source": [
    "psiA = np.kron(np.array([1,0]), psi) # |Psi>|0> -> tensor on the ancilla qubit in |0>\n",
    "print(psiA)"
   ]
  },
  {
   "cell_type": "code",
   "execution_count": 12,
   "id": "1defb83d-708f-4a55-93df-0400f93df39e",
   "metadata": {},
   "outputs": [
    {
     "name": "stdout",
     "output_type": "stream",
     "text": [
      "1.0\n",
      "0.0\n"
     ]
    }
   ],
   "source": [
    "# Pre measurement\n",
    "print(np.linalg.norm(psiA[:2])**2) # probability of measuring ancilla 0\n",
    "print(np.linalg.norm(psiA[2:])**2) # probability of measuring ancilla 1"
   ]
  },
  {
   "cell_type": "code",
   "execution_count": 13,
   "id": "198fcc4c-d827-4f1f-8794-b4913c1059ba",
   "metadata": {},
   "outputs": [],
   "source": [
    "psiB = U_gamma @ psiA # apply block encoding"
   ]
  },
  {
   "cell_type": "code",
   "execution_count": 14,
   "id": "e67d8281-1715-4c25-8d6e-7216ed405d3b",
   "metadata": {},
   "outputs": [
    {
     "name": "stdout",
     "output_type": "stream",
     "text": [
      "0.7514009399410919\n",
      "0.24859906005890806\n"
     ]
    }
   ],
   "source": [
    "# Post measurement\n",
    "print(np.linalg.norm(psiB[:2])**2) # probability of measuring ancilla 0\n",
    "print(np.linalg.norm(psiB[2:])**2) # probability of measuring ancilla 1"
   ]
  },
  {
   "cell_type": "code",
   "execution_count": 15,
   "id": "df137950-d43f-4c46-b0fa-79a70d54cd28",
   "metadata": {},
   "outputs": [
    {
     "data": {
      "text/plain": [
       "array([0.+0.j, 0.+0.j])"
      ]
     },
     "execution_count": 15,
     "metadata": {},
     "output_type": "execute_result"
    }
   ],
   "source": [
    "psiB[:2] - gamma @ psi"
   ]
  },
  {
   "cell_type": "code",
   "execution_count": 16,
   "id": "78ab7898-b5cd-4fb3-8f72-2d8447ec93d6",
   "metadata": {},
   "outputs": [
    {
     "data": {
      "text/plain": [
       "array([0.+0.j, 0.+0.j])"
      ]
     },
     "execution_count": 16,
     "metadata": {},
     "output_type": "execute_result"
    }
   ],
   "source": [
    "psiB[2:] - U_gamma[2:,:2] @ psi"
   ]
  },
  {
   "cell_type": "code",
   "execution_count": 17,
   "id": "741361fb-bb4b-4793-8944-c15656a37e82",
   "metadata": {},
   "outputs": [
    {
     "data": {
      "text/plain": [
       "array([0.5110361 +0.49427204j, 0.34513954+0.3561136j ])"
      ]
     },
     "execution_count": 17,
     "metadata": {},
     "output_type": "execute_result"
    }
   ],
   "source": [
    "psiB[:2] # Unnormalized state upon 0 ancilla measurement"
   ]
  },
  {
   "cell_type": "code",
   "execution_count": 18,
   "id": "eae1d891-7887-4cae-8012-7dbd4763c597",
   "metadata": {},
   "outputs": [
    {
     "data": {
      "text/plain": [
       "array([0.35839071+0.34663404j, 0.        +0.j        ])"
      ]
     },
     "execution_count": 18,
     "metadata": {},
     "output_type": "execute_result"
    }
   ],
   "source": [
    "psiB[2:] # Unnormalized state upon 1 ancilla measurement"
   ]
  },
  {
   "cell_type": "markdown",
   "id": "5541daba-1cef-4396-b9fe-f27f45268dab",
   "metadata": {},
   "source": [
    "# Modified BE"
   ]
  },
  {
   "cell_type": "code",
   "execution_count": 19,
   "id": "21701468-098a-42f4-af6b-d176fbad1f24",
   "metadata": {},
   "outputs": [],
   "source": [
    "CP = np.eye(4, dtype=gamma.dtype)\n",
    "CP[2:,2:] = np.roll(np.eye(2), 1, axis=1) # Swap 1 qubit eigenstates; X in eigenbasis"
   ]
  },
  {
   "cell_type": "code",
   "execution_count": 20,
   "id": "e17d0c8f-3bec-400d-9df8-fdc88b0296fb",
   "metadata": {},
   "outputs": [
    {
     "data": {
      "text/plain": [
       "array([[1., 0., 0., 0.],\n",
       "       [0., 1., 0., 0.],\n",
       "       [0., 0., 0., 1.],\n",
       "       [0., 0., 1., 0.]])"
      ]
     },
     "execution_count": 20,
     "metadata": {},
     "output_type": "execute_result"
    }
   ],
   "source": [
    "CP"
   ]
  },
  {
   "cell_type": "code",
   "execution_count": 21,
   "id": "2065fa47-dcc5-4dd4-bc3a-a530e6eb75c7",
   "metadata": {},
   "outputs": [],
   "source": [
    "V_gamma = CP @ U_gamma"
   ]
  },
  {
   "cell_type": "code",
   "execution_count": 22,
   "id": "9a77de8e-a5b4-4958-a807-032960e7006d",
   "metadata": {},
   "outputs": [
    {
     "data": {
      "text/plain": [
       "2.429468200843727e-17"
      ]
     },
     "execution_count": 22,
     "metadata": {},
     "output_type": "execute_result"
    }
   ],
   "source": [
    "np.linalg.norm(V_gamma @ V_gamma.conj().T - np.eye(4))"
   ]
  },
  {
   "cell_type": "code",
   "execution_count": 23,
   "id": "df00bc7c-43d3-423e-840d-c0809f5299ec",
   "metadata": {},
   "outputs": [
    {
     "data": {
      "text/plain": [
       "array([[ 0.81873075,  0.        ,  0.57417763,  0.        ],\n",
       "       [ 0.        ,  1.        ,  0.        ,  0.        ],\n",
       "       [ 0.        ,  0.        ,  0.        , -1.        ],\n",
       "       [ 0.57417763,  0.        , -0.81873075,  0.        ]])"
      ]
     },
     "execution_count": 23,
     "metadata": {},
     "output_type": "execute_result"
    }
   ],
   "source": [
    "V_gamma"
   ]
  },
  {
   "cell_type": "code",
   "execution_count": 24,
   "id": "a675a2f9-44fa-4d4f-82c4-a8ea0c64fc03",
   "metadata": {},
   "outputs": [],
   "source": [
    "psiC = V_gamma @ psiA"
   ]
  },
  {
   "cell_type": "code",
   "execution_count": 25,
   "id": "6875b1cf-a47c-4eba-999e-144c37585690",
   "metadata": {},
   "outputs": [
    {
     "name": "stdout",
     "output_type": "stream",
     "text": [
      "0.7514009399410919\n",
      "0.24859906005890806\n"
     ]
    }
   ],
   "source": [
    "# Probabilities post measurement are the same with naive and conditional BE; this has to be since we multiplied by a unitary\n",
    "print(np.linalg.norm(psiC[:2])**2)\n",
    "print(np.linalg.norm(psiC[2:])**2)"
   ]
  },
  {
   "cell_type": "code",
   "execution_count": 26,
   "id": "f862e9e9-fed2-4c18-86b5-d557a1e5a302",
   "metadata": {},
   "outputs": [
    {
     "data": {
      "text/plain": [
       "array([0.+0.j, 0.+0.j])"
      ]
     },
     "execution_count": 26,
     "metadata": {},
     "output_type": "execute_result"
    }
   ],
   "source": [
    "psiC[:2] - gamma @ psi"
   ]
  },
  {
   "cell_type": "code",
   "execution_count": 27,
   "id": "34959cc6-497b-4f2b-b51b-fc476db24ff2",
   "metadata": {},
   "outputs": [
    {
     "data": {
      "text/plain": [
       "array([-0.35839071-0.34663404j,  0.35839071+0.34663404j])"
      ]
     },
     "execution_count": 27,
     "metadata": {},
     "output_type": "execute_result"
    }
   ],
   "source": [
    "psiC[2:] - U_gamma[2:,:2] @ psi"
   ]
  },
  {
   "cell_type": "code",
   "execution_count": 28,
   "id": "80b6c515-8046-421c-8eaa-74425688d892",
   "metadata": {},
   "outputs": [
    {
     "data": {
      "text/plain": [
       "array([0.+0.j, 0.+0.j])"
      ]
     },
     "execution_count": 28,
     "metadata": {},
     "output_type": "execute_result"
    }
   ],
   "source": [
    "psiC[2:] - V_gamma[2:,:2] @ psi"
   ]
  },
  {
   "cell_type": "code",
   "execution_count": 29,
   "id": "6afb998b-491f-4df9-9bda-5ff0f9491eb0",
   "metadata": {},
   "outputs": [
    {
     "data": {
      "text/plain": [
       "array([0.        +0.j        , 0.35839071+0.34663404j])"
      ]
     },
     "execution_count": 29,
     "metadata": {},
     "output_type": "execute_result"
    }
   ],
   "source": [
    "psiC[2:]"
   ]
  },
  {
   "cell_type": "markdown",
   "id": "b970a4c4-f3fa-45d9-bfe1-c63aedf9f504",
   "metadata": {},
   "source": [
    "# Run optimization algorithm"
   ]
  },
  {
   "cell_type": "code",
   "execution_count": 30,
   "id": "67914bfc-e790-48a9-a87a-6053b7315542",
   "metadata": {},
   "outputs": [],
   "source": [
    "# Function that does many steps\n",
    "def HITE(psi, beta, H, max_iter, adaptive=True, force_fail=False, verbose=False, seed=0):\n",
    "    if seed >= 0:\n",
    "        np.random.seed(seed)\n",
    "    d = H.shape[0]\n",
    "    L, U = np.linalg.eigh(H) # Energy eigenbasis\n",
    "    GS = U[:,0]\n",
    "\n",
    "    # Shift spectrum of H to be non-negative with GS energy being 0\n",
    "    H_diag = np.diag(L)\n",
    "    H_diag -= np.min(L) * np.eye(d)\n",
    "\n",
    "    print(f\"Shifted Spectrum: {np.diag(H_diag)}.\")\n",
    "    assert np.isclose(GS.conj().T @ H @ GS, np.min(L))\n",
    "    \n",
    "    # Make gamma = e^{-beta H_diag)\n",
    "    gamma = sp.linalg.expm(-beta * H_diag)\n",
    "    U_gamma = np.zeros((2*d,2*d), dtype=gamma.dtype)\n",
    "    U_gamma[:d,:d] = gamma\n",
    "    U_gamma[d:,:d] = U_gamma[:d,d:] = np.sqrt(np.eye(d) - gamma**2)\n",
    "    U_gamma[d:,d:] = -gamma\n",
    "    assert np.isclose(np.linalg.norm(U_gamma @ U_gamma.conj().T - np.eye(2*d)), 0.0)\n",
    "    \n",
    "    psi = U.conj().T @ psi # Move to energy eigenbasis\n",
    "    GS_E = U.conj().T @ GS # GS in energy eigenbasis. Should just be [1,0,0,...]\n",
    "    assert np.isclose(GS_E[0], 1)\n",
    "    \n",
    "    Es = [psi.conj().T @ H_diag @ psi] # Initial energy\n",
    "    Fs = [np.abs(psi[0])**2]\n",
    "    if verbose:\n",
    "        print(f\"Energy at iteration {0}: {Es[-1]}.\")\n",
    "        print(f\"Fidelity at iteration {0}: {Fs[-1]}.\")\n",
    "        \n",
    "    mos = []\n",
    "    fail_count = 0\n",
    "    def permutation(fail_count, d):\n",
    "        # Define one particular choice of permutation matrix\n",
    "        P = np.eye(d)\n",
    "        if fail_count == 0:\n",
    "            P = np.roll(np.eye(d), 1, axis=1)\n",
    "        else:\n",
    "            P[:-fail_count,:-fail_count] = np.roll(P[:-fail_count,:-fail_count], 1, axis=1)\n",
    "        return P\n",
    "    \n",
    "    for i in range(1, max_iter+1):\n",
    "        psi_E = np.kron(np.array([1,0]), psi)\n",
    "        psi_E = U_gamma @ psi_E\n",
    "        p0 = np.linalg.norm(psi_E[:d])**2\n",
    "        p1 = np.linalg.norm(psi_E[d:])**2\n",
    "        assert np.isclose(p0 + p1, 1)\n",
    "\n",
    "        # Choose measurement outcome according to probabilities\n",
    "        mo = np.random.choice([0,1], size=1, p=[p0,p1])[0]\n",
    "        if p1 > 0 and force_fail:\n",
    "            mo = 1\n",
    "        mos.append(mo)\n",
    "        if verbose:\n",
    "            print(f\"Measurement outcome and probability at iteration {i}: {mo}, {[p0,p1][mo]}.\")\n",
    "        \n",
    "        if mo == 0:\n",
    "            psi = psi_E[:d]\n",
    "        else:\n",
    "            psi = psi_E[d:]\n",
    "        psi /= np.linalg.norm(psi)\n",
    "\n",
    "        if mo == 1 and adaptive:\n",
    "            # Made measurement error; try to fix\n",
    "            nP = permutation(fail_count, d)\n",
    "            assert np.isclose(np.linalg.norm(nP @ nP.conj().T - np.eye(d)), 0.0)\n",
    "            psi = nP @ psi\n",
    "            fail_count += 1\n",
    "            print(f\"-------fail counter: {fail_count}; iteration: {i}-------\")\n",
    "        Es.append(psi.conj().T @ H_diag @ psi)\n",
    "        Fs.append(np.abs(psi[0])**2)\n",
    "        if verbose:\n",
    "            print(f\"Energy at iteration {i}: {Es[-1]}.\")\n",
    "            print(f\"Fidelity at iteration {i}: {Fs[-1]}.\")\n",
    "        if len(Es) > 1 and np.abs(Es[-1] - Es[-2]) < 1.e-8:\n",
    "            break\n",
    "    if np.isclose(Es[-1], 0):\n",
    "        assert np.isclose(np.abs(GS.conj().T @ (U @ psi)), 1.0)\n",
    "        assert np.isclose((U @ psi).conj().T @ H @ (U @ psi), np.min(L))\n",
    "    return Es, Fs, mos, U @ psi"
   ]
  },
  {
   "cell_type": "markdown",
   "id": "97cc8e1c-8e16-4f8d-b259-47315297a0c0",
   "metadata": {},
   "source": [
    "## 1-qubit check"
   ]
  },
  {
   "cell_type": "code",
   "execution_count": 31,
   "id": "a8045e32-0742-43ea-ab85-329f88922f80",
   "metadata": {},
   "outputs": [
    {
     "name": "stdout",
     "output_type": "stream",
     "text": [
      "[0.79868425+0.52026014j 0.00721356+0.30229259j]\n"
     ]
    }
   ],
   "source": [
    "psi = np.random.rand(2) + 1.j*np.random.rand(2)\n",
    "psi /= np.linalg.norm(psi)\n",
    "print(psi)"
   ]
  },
  {
   "cell_type": "code",
   "execution_count": 32,
   "id": "353ffd10-b96e-413d-bc19-97ccbb97408e",
   "metadata": {},
   "outputs": [
    {
     "data": {
      "text/plain": [
       "0.09143284799668175"
      ]
     },
     "execution_count": 32,
     "metadata": {},
     "output_type": "execute_result"
    }
   ],
   "source": [
    "np.abs(psi[1])**2"
   ]
  },
  {
   "cell_type": "code",
   "execution_count": 33,
   "id": "2ef4b77a-78cc-4d4c-ac00-2bbfd236c058",
   "metadata": {},
   "outputs": [
    {
     "name": "stdout",
     "output_type": "stream",
     "text": [
      "Spectrum: [0. 2.].\n",
      "-------fail counter: 1; iteration: 1-------\n"
     ]
    },
    {
     "name": "stderr",
     "output_type": "stream",
     "text": [
      "/home/sajant/miniconda3/envs/DMT/lib/python3.12/site-packages/matplotlib/cbook.py:1699: ComplexWarning: Casting complex values to real discards the imaginary part\n",
      "  return math.isfinite(val)\n",
      "/home/sajant/miniconda3/envs/DMT/lib/python3.12/site-packages/matplotlib/cbook.py:1345: ComplexWarning: Casting complex values to real discards the imaginary part\n",
      "  return np.asarray(x, float)\n"
     ]
    },
    {
     "data": {
      "text/plain": [
       "Text(0.5, 1.0, 'Energy: 0.0, Fidelity: 1.0000000000000004')"
      ]
     },
     "execution_count": 33,
     "metadata": {},
     "output_type": "execute_result"
    },
    {
     "data": {
      "image/png": "[encoded data removed]",
      "text/plain": [
       "<Figure size 640x480 with 2 Axes>"
      ]
     },
     "metadata": {},
     "output_type": "display_data"
    }
   ],
   "source": [
    "Es, Fs, mos, _ = HITE(psi, 1, Z, 100, seed=-1)\n",
    "fig = plt.figure()\n",
    "\n",
    "ax = fig.gca()\n",
    "color = 'tab:red'\n",
    "ax.plot(np.arange(1, len(mos)+1), np.array(mos), marker='s', markersize=2, color=color)\n",
    "ax.set_ylabel('Measurement Outcome', color=color)\n",
    "ax.tick_params(axis='y', labelcolor=color)\n",
    "\n",
    "ax2 = ax.twinx()\n",
    "color = 'tab:blue'\n",
    "ax2.plot(Es, color=color)\n",
    "ax2.set_xlabel('Iteration')\n",
    "ax2.set_ylabel('Energy', color=color)\n",
    "ax2.set_yscale('log')\n",
    "\n",
    "ax2.tick_params(axis='y', labelcolor=color)\n",
    "ax.set_title(f\"Energy: {Es[-1].real}, Fidelity: {Fs[-1]}\")"
   ]
  },
  {
   "cell_type": "code",
   "execution_count": 34,
   "id": "a1da412e-1475-4420-8c15-c8cea81d6b0d",
   "metadata": {},
   "outputs": [
    {
     "data": {
      "text/plain": [
       "[0.09143284799668175, 0.9999999999999998, 1.0000000000000004]"
      ]
     },
     "execution_count": 34,
     "metadata": {},
     "output_type": "execute_result"
    }
   ],
   "source": [
    "Fs"
   ]
  },
  {
   "cell_type": "code",
   "execution_count": 35,
   "id": "2162a07b-b144-4127-a734-f9d7829944cb",
   "metadata": {},
   "outputs": [],
   "source": [
    "plt.close('all')"
   ]
  },
  {
   "cell_type": "markdown",
   "id": "9825fc13-1e2c-444b-9d8e-27035acaa684",
   "metadata": {},
   "source": [
    "## $n$-qubit case"
   ]
  },
  {
   "cell_type": "code",
   "execution_count": 81,
   "id": "1603ebba-83c0-497a-a8e6-6f888b5829ef",
   "metadata": {},
   "outputs": [],
   "source": [
    "def kron(ops):\n",
    "        op = 1\n",
    "        for o in ops:\n",
    "            op = np.kron(op, o)\n",
    "        return op\n",
    "\n",
    "Z = np.array([[1,0],[0,-1]])\n",
    "X = np.array([[0,1],[1,0]])\n",
    "Y = np.array([[0,-1.j],[1.j,0]])\n",
    "Id = np.eye(2)\n",
    "\n",
    "def build_Hamiltoinan(L, Jz, hx, hz):\n",
    "    # Build full 2^L x 2^L Hamiltonian\n",
    "\n",
    "    H = np.zeros((2**L, 2**L), dtype=np.float64)\n",
    "\n",
    "    for i in range(L):\n",
    "        H += hx * kron([Id]*i + [X] + [Id]*(L-i-1))\n",
    "        H += hz * kron([Id]*i + [Z] + [Id]*(L-i-1))\n",
    "\n",
    "    Ising = [Z, Z] + [Id] * (L-2)\n",
    "    for i in range(L):\n",
    "        H += Jz * kron(Ising)\n",
    "        # Shift the first element to the last; periodic BCs!\n",
    "        Ising.append(Ising.pop(0))\n",
    "    return H\n",
    "L = 5\n",
    "H = build_Hamiltoinan(L, 1, 1.4, 0.9045)\n",
    "d = H.shape[0]"
   ]
  },
  {
   "cell_type": "code",
   "execution_count": 82,
   "id": "82c12d3b-8265-4029-96cd-e01908899abc",
   "metadata": {},
   "outputs": [],
   "source": [
    "psi = np.random.rand(d) + 1.j*np.random.rand(d)\n",
    "psi /= np.linalg.norm(psi)\n",
    "#print(psi)"
   ]
  },
  {
   "cell_type": "code",
   "execution_count": 90,
   "id": "a4ad8abd-c978-40d7-9ba2-cb6c070a4bcb",
   "metadata": {},
   "outputs": [
    {
     "name": "stdout",
     "output_type": "stream",
     "text": [
      "Spectrum: [ 0.          1.672655    1.672655    3.38371532  3.38371532  4.39312235\n",
      "  4.39312235  4.42869686  5.81232462  5.81232462  6.10875603  6.72004271\n",
      "  6.72004271  7.05856798  7.05856798  8.0783707   8.40657213  8.40657213\n",
      "  9.50707798  9.50707798  9.71868933 10.66617482 10.66617482 10.87490815\n",
      " 10.87490815 11.91253967 13.23117054 13.23117054 14.16961027 14.16961027\n",
      " 14.819512   19.53072999].\n"
     ]
    },
    {
     "data": {
      "text/plain": [
       "Text(0.5, 1.0, 'Energy: 14.819510123329508, Fidelity: 0.0')"
      ]
     },
     "execution_count": 90,
     "metadata": {},
     "output_type": "execute_result"
    },
    {
     "data": {
      "image/png": "[encoded data removed]",
      "text/plain": [
       "<Figure size 640x480 with 2 Axes>"
      ]
     },
     "metadata": {},
     "output_type": "display_data"
    }
   ],
   "source": [
    "Es, Fs, mos, _ = HITE(psi, 0.1, H, 10000, adaptive=False, force_fail=False, seed=-1)\n",
    "fig = plt.figure()\n",
    "\n",
    "ax = fig.gca()\n",
    "color = 'tab:red'\n",
    "ax.plot(np.arange(1, len(mos)+1), np.array(mos), marker='s', markersize=2, color=color)\n",
    "ax.set_ylabel('Measurement Outcome', color=color)\n",
    "ax.tick_params(axis='y', labelcolor=color)\n",
    "\n",
    "ax2 = ax.twinx()\n",
    "color = 'tab:blue'\n",
    "ax2.plot(Es, color=color)\n",
    "ax2.set_xlabel('Iteration')\n",
    "ax2.set_ylabel('Energy', color=color)\n",
    "ax2.set_yscale('log')\n",
    "\n",
    "ax2.tick_params(axis='y', labelcolor=color)\n",
    "ax.set_title(f\"Energy: {Es[-1].real}, Fidelity: {Fs[-1]}\")"
   ]
  },
  {
   "cell_type": "code",
   "execution_count": null,
   "id": "72f8a8e1-db38-4a34-8bbb-734a9a618408",
   "metadata": {},
   "outputs": [],
   "source": []
  }
 ],
 "metadata": {
  "kernelspec": {
   "display_name": "DMT",
   "language": "python",
   "name": "dmt"
  },
  "language_info": {
   "codemirror_mode": {
    "name": "ipython",
    "version": 3
   },
   "file_extension": ".py",
   "mimetype": "text/x-python",
   "name": "python",
   "nbconvert_exporter": "python",
   "pygments_lexer": "ipython3",
   "version": "3.12.2"
  }
 },
 "nbformat": 4,
 "nbformat_minor": 5
}
