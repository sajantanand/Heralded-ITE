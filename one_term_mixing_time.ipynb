{
 "cells": [
  {
   "cell_type": "code",
   "execution_count": 1,
   "id": "035696f3-a7ae-445c-969f-079eade726d7",
   "metadata": {},
   "outputs": [],
   "source": [
    "import numpy as np\n",
    "import scipy as sp"
   ]
  },
  {
   "cell_type": "markdown",
   "id": "7dc09828-f224-47a2-ab45-d632d0dc3aca",
   "metadata": {},
   "source": [
    "# Define Hamiltonian\n",
    "We want a single body Hamiltonian as a $d \\times d$ matrix. We can either choose a specific Hamiltonian (TFI, AKLT, cluster state) or a random Hamiltonian."
   ]
  },
  {
   "cell_type": "code",
   "execution_count": 2,
   "id": "d6805695-1382-43e9-9e42-ba18f3fd6c37",
   "metadata": {},
   "outputs": [],
   "source": [
    "# Random Hamiltonian\n",
    "d = 32\n",
    "H = np.random.rand(d,d) + 1.j * np.random.rand(d,d)\n",
    "H = H + H.conj().T"
   ]
  },
  {
   "cell_type": "code",
   "execution_count": 4,
   "id": "5c20bac0-a964-4a08-bb16-485f225e55aa",
   "metadata": {},
   "outputs": [],
   "source": [
    "# Periodic TFI\n",
    "def kron(ops):\n",
    "    op = 1\n",
    "    for o in ops:\n",
    "        op = np.kron(op, o)\n",
    "    return op\n",
    "\n",
    "Z = np.array([[1,0],[0,-1]])\n",
    "X = np.array([[0,1],[1,0]])\n",
    "Y = np.array([[0,-1.j],[1.j,0]])\n",
    "Id = np.eye(2)\n",
    "\n",
    "def build_TFI_Hamiltoinan(L, Jz, hx, hz):\n",
    "    # Build full 2^L x 2^L Hamiltonian\n",
    "\n",
    "    H = np.zeros((2**L, 2**L), dtype=np.float64)\n",
    "\n",
    "    for i in range(L):\n",
    "        H += hx * kron([Id]*i + [X] + [Id]*(L-i-1))\n",
    "        H += hz * kron([Id]*i + [Z] + [Id]*(L-i-1))\n",
    "\n",
    "    Ising = [Z, Z] + [Id] * (L-2)\n",
    "    for i in range(L):\n",
    "        H += Jz * kron(Ising)\n",
    "        # Shift the first element to the last; periodic BCs!\n",
    "        Ising.append(Ising.pop(0))\n",
    "    return H\n",
    "    \n",
    "def build_cluster_state_Hamiltoinan(L):\n",
    "    # Build full 2^L x 2^L Hamiltonian\n",
    "\n",
    "    H = np.zeros((2**L, 2**L), dtype=np.float64)\n",
    "\n",
    "    Cluster = [Z, X, Z] + [Id] * (L-3)\n",
    "    for i in range(L):\n",
    "        H += -1 * kron(Cluster)\n",
    "        # Shift the first element to the last; periodic BCs!\n",
    "        Cluster.append(Cluster.pop(0))\n",
    "    return H\n",
    "\n",
    "#H = build_TFI_Hamiltoinan(5, 1, -1.4, 0.9045)\n",
    "H = build_cluster_state_Hamiltoinan(5)\n",
    "d = H.shape[0]"
   ]
  },
  {
   "cell_type": "code",
   "execution_count": 5,
   "id": "46bbb429-0aba-46e3-beae-de26bc529b5b",
   "metadata": {},
   "outputs": [],
   "source": [
    "L, U = np.linalg.eigh(H)\n",
    "assert np.isclose(np.linalg.norm(U @ np.diag(L) @ U.conj().T - H), 0.0)"
   ]
  },
  {
   "cell_type": "code",
   "execution_count": 6,
   "id": "e973af35-df9e-42fd-87ed-c99b123d3b72",
   "metadata": {},
   "outputs": [
    {
     "name": "stdout",
     "output_type": "stream",
     "text": [
      "[-5. -3. -3. -3. -3. -3. -1. -1. -1. -1. -1. -1. -1. -1. -1. -1.  1.  1.\n",
      "  1.  1.  1.  1.  1.  1.  1.  1.  3.  3.  3.  3.  3.  5.]\n"
     ]
    }
   ],
   "source": [
    "print(L)"
   ]
  },
  {
   "cell_type": "markdown",
   "id": "70c0c1b8-84be-4ff8-a94b-b8e4d91eafff",
   "metadata": {},
   "source": [
    "# Define Kraus operators for discrete quantum channel"
   ]
  },
  {
   "cell_type": "code",
   "execution_count": 7,
   "id": "1f9e4d98-1945-4b47-be0d-ace454246520",
   "metadata": {},
   "outputs": [
    {
     "name": "stdout",
     "output_type": "stream",
     "text": [
      "[ 0.  2.  2.  2.  2.  2.  4.  4.  4.  4.  4.  4.  4.  4.  4.  4.  6.  6.\n",
      "  6.  6.  6.  6.  6.  6.  6.  6.  8.  8.  8.  8.  8. 10.]\n"
     ]
    }
   ],
   "source": [
    "L_shift = L - np.min(L)\n",
    "print(L_shift)\n",
    "H_shift = U @ np.diag(L_shift) @ U.conj().T"
   ]
  },
  {
   "cell_type": "code",
   "execution_count": 8,
   "id": "b86a6aa3-3f96-469e-adfa-10974225f754",
   "metadata": {},
   "outputs": [],
   "source": [
    "beta = 0.1\n",
    "gamma_1 = sp.linalg.expm(-beta * H_shift)\n",
    "assert np.isclose(np.linalg.norm(U @ sp.linalg.expm(-beta * np.diag(L_shift)) @ U.conj().T - gamma_1), 0.0)"
   ]
  },
  {
   "cell_type": "code",
   "execution_count": 9,
   "id": "fa54c7df-395e-41d1-8b8e-737dc6b385b8",
   "metadata": {},
   "outputs": [],
   "source": [
    "gamma_2 = U @ np.diag(np.sqrt(1 - np.exp(-2*beta*L_shift))) @ U.conj().T"
   ]
  },
  {
   "cell_type": "code",
   "execution_count": 10,
   "id": "012eeaeb-6d29-4f12-ac03-ffbd548c6d4f",
   "metadata": {},
   "outputs": [],
   "source": [
    "P = np.roll(np.eye(d), 1, axis=1)\n",
    "P_gamma_2 = P @ gamma_2"
   ]
  },
  {
   "cell_type": "code",
   "execution_count": 11,
   "id": "e287e778-8a1f-4d1f-ad35-590d7e7612ad",
   "metadata": {},
   "outputs": [],
   "source": [
    "assert np.isclose(np.linalg.norm(np.eye(d) - (gamma_1.conj().T @ gamma_1 + gamma_2.conj().T @ gamma_2)), 0.0)\n",
    "assert np.isclose(np.linalg.norm(np.eye(d) - (gamma_1.conj().T @ gamma_1 + P_gamma_2.conj().T @ P_gamma_2)), 0.0)"
   ]
  },
  {
   "cell_type": "code",
   "execution_count": 12,
   "id": "b05da557-87b3-4eda-9e13-b9da435f06be",
   "metadata": {},
   "outputs": [],
   "source": [
    "assert np.isclose(np.linalg.norm(gamma_1 - gamma_1.conj().T), 0.0)\n",
    "assert np.isclose(np.linalg.norm(gamma_2 - gamma_2.conj().T), 0.0)\n",
    "assert not np.isclose(np.linalg.norm(P_gamma_2 - P_gamma_2.conj().T), 0.0)"
   ]
  },
  {
   "cell_type": "markdown",
   "id": "84dc8583-2fed-43b5-a353-dc0dd27dd428",
   "metadata": {},
   "source": [
    "Both $\\Gamma_1$ and $\\Gamma_2$ are Hermitian, as they should be. Both are matrix exponentials of Hermitian matrices with a real exponent (imaginary time evolution and all). Additionally, we have checked that $\\sum_i K_i^\\dagger K_i = 1$. $P \\Gamma_2$ is no longer Hermitian since we have applied a permutation matrix."
   ]
  },
  {
   "cell_type": "markdown",
   "id": "d68648b3-8967-47a6-ae56-073a8afa29ef",
   "metadata": {},
   "source": [
    "# Define vectorized channel\n",
    "We want the superoperator $E = \\sum_i K_i \\otimes \\overline{K_i}$, given Kraus operators $K_i$."
   ]
  },
  {
   "cell_type": "code",
   "execution_count": 13,
   "id": "c2d6f09e-8274-4c31-ad4c-e8faa15cffb8",
   "metadata": {},
   "outputs": [
    {
     "name": "stdout",
     "output_type": "stream",
     "text": [
      "(1024, 1024)\n"
     ]
    }
   ],
   "source": [
    "E = np.kron(gamma_1, gamma_1.conj()) + np.kron(gamma_2, gamma_2.conj())\n",
    "print(E.shape)"
   ]
  },
  {
   "cell_type": "code",
   "execution_count": 14,
   "id": "02a5f245-0519-4f3c-8fbb-3355e0d1a913",
   "metadata": {},
   "outputs": [
    {
     "name": "stdout",
     "output_type": "stream",
     "text": [
      "(1024, 1024)\n"
     ]
    }
   ],
   "source": [
    "P_E = np.kron(gamma_1, gamma_1.conj()) + np.kron(P_gamma_2, P_gamma_2.conj())\n",
    "print(P_E.shape)"
   ]
  },
  {
   "cell_type": "code",
   "execution_count": 15,
   "id": "51267529-4737-4097-b62c-dac60ab76839",
   "metadata": {},
   "outputs": [],
   "source": [
    "assert np.isclose(np.linalg.norm(E - E.conj().T), 0.0)\n",
    "assert not np.isclose(np.linalg.norm(P_E - P_E.conj().T), 0.0)"
   ]
  },
  {
   "cell_type": "markdown",
   "id": "8f24f857-05ff-45a4-8286-f3c2dc2ad32b",
   "metadata": {},
   "source": [
    "The superoperator without permutation is Hermitian. This makes sense since all Kraus operators are. However, the superoperator isn't."
   ]
  },
  {
   "cell_type": "code",
   "execution_count": 16,
   "id": "ff09c8ce-4d09-4364-b5b7-c39fad7ebbe3",
   "metadata": {},
   "outputs": [],
   "source": [
    "L2, U2 = np.linalg.eigh(E)\n",
    "assert np.isclose(np.linalg.norm(E - U2 @ np.diag(L2) @ U2.conj().T), 0.0)\n",
    "#assert np.isclose(np.linalg.norm(E - U2 @ np.diag(L2) @ sp.linalg.inv(U2)), 0.0)"
   ]
  },
  {
   "cell_type": "markdown",
   "id": "4cdcd6c4-8ffe-4269-947e-c5bee9429432",
   "metadata": {},
   "source": [
    "Columns of $U2$ are the right eigenvectors. I am using `np.linalg.eig` rather than `np.linalg.eigh` since the fixed point eigenvectors for `eigh` aren't Hermitian when viewed as density matrices. I am not sure why this is the case."
   ]
  },
  {
   "cell_type": "code",
   "execution_count": 17,
   "id": "d397f1b5-e917-49ab-8930-251f81fab116",
   "metadata": {},
   "outputs": [
    {
     "name": "stdout",
     "output_type": "stream",
     "text": [
      "1.0000000000000018\n",
      "[ 772  773  774  775  776  777  778  779  780  781  782  783  784  785\n",
      "  786  787  788  789  790  791  792  793  794  795  796  797  798  799\n",
      "  800  801  802  803  804  805  806  807  808  809  810  811  812  813\n",
      "  814  815  816  817  818  819  820  821  822  823  824  825  826  827\n",
      "  828  829  830  831  832  833  834  835  836  837  838  839  840  841\n",
      "  842  843  844  845  846  847  848  849  850  851  852  853  854  855\n",
      "  856  857  858  859  860  861  862  863  864  865  866  867  868  869\n",
      "  870  871  872  873  874  875  876  877  878  879  880  881  882  883\n",
      "  884  885  886  887  888  889  890  891  892  893  894  895  896  897\n",
      "  898  899  900  901  902  903  904  905  906  907  908  909  910  911\n",
      "  912  913  914  915  916  917  918  919  920  921  922  923  924  925\n",
      "  926  927  928  929  930  931  932  933  934  935  936  937  938  939\n",
      "  940  941  942  943  944  945  946  947  948  949  950  951  952  953\n",
      "  954  955  956  957  958  959  960  961  962  963  964  965  966  967\n",
      "  968  969  970  971  972  973  974  975  976  977  978  979  980  981\n",
      "  982  983  984  985  986  987  988  989  990  991  992  993  994  995\n",
      "  996  997  998  999 1000 1001 1002 1003 1004 1005 1006 1007 1008 1009\n",
      " 1010 1011 1012 1013 1014 1015 1016 1017 1018 1019 1020 1021 1022 1023] 252\n"
     ]
    }
   ],
   "source": [
    "print(np.max(L2))\n",
    "L2_index = np.where(np.isclose(np.abs(L2), 1.0, atol=1.e-14, rtol=1.e-14))[0]\n",
    "print(L2_index, len(L2_index))"
   ]
  },
  {
   "cell_type": "code",
   "execution_count": 18,
   "id": "0473f03d-2b1c-4746-aeca-c77aa906fc50",
   "metadata": {},
   "outputs": [
    {
     "name": "stdout",
     "output_type": "stream",
     "text": [
      "[0.9960166 1.        1.        1.        1.        1.        1.\n",
      " 1.        1.        1.        1.        1.        1.        1.\n",
      " 1.        1.        1.        1.        1.        1.        1.\n",
      " 1.        1.        1.        1.        1.        1.        1.\n",
      " 1.        1.        1.        1.        1.        1.        1.\n",
      " 1.        1.        1.        1.        1.        1.        1.\n",
      " 1.        1.        1.        1.        1.        1.        1.\n",
      " 1.        1.        1.        1.        1.        1.        1.\n",
      " 1.        1.        1.        1.        1.        1.        1.\n",
      " 1.        1.        1.        1.        1.        1.        1.\n",
      " 1.        1.        1.        1.        1.        1.        1.\n",
      " 1.        1.        1.        1.        1.        1.        1.\n",
      " 1.        1.        1.        1.        1.        1.        1.\n",
      " 1.        1.        1.        1.        1.        1.        1.\n",
      " 1.        1.        1.        1.        1.        1.        1.\n",
      " 1.        1.        1.        1.        1.        1.        1.\n",
      " 1.        1.        1.        1.        1.        1.        1.\n",
      " 1.        1.        1.        1.        1.        1.        1.\n",
      " 1.        1.        1.        1.        1.        1.        1.\n",
      " 1.        1.        1.        1.        1.        1.        1.\n",
      " 1.        1.        1.        1.        1.        1.        1.\n",
      " 1.        1.        1.        1.        1.        1.        1.\n",
      " 1.        1.        1.        1.        1.        1.        1.\n",
      " 1.        1.        1.        1.        1.        1.        1.\n",
      " 1.        1.        1.        1.        1.        1.        1.\n",
      " 1.        1.        1.        1.        1.        1.        1.\n",
      " 1.        1.        1.        1.        1.        1.        1.\n",
      " 1.        1.        1.        1.        1.        1.        1.\n",
      " 1.        1.        1.        1.        1.        1.        1.\n",
      " 1.        1.        1.        1.        1.        1.        1.\n",
      " 1.        1.        1.        1.        1.        1.        1.\n",
      " 1.        1.        1.        1.        1.        1.        1.\n",
      " 1.        1.        1.        1.        1.        1.        1.\n",
      " 1.        1.        1.        1.        1.        1.        1.\n",
      " 1.        1.        1.        1.        1.        1.        1.\n",
      " 1.        1.        1.        1.        1.        1.        1.\n",
      " 1.       ]\n"
     ]
    }
   ],
   "source": [
    "L2_sort = np.abs(L2)\n",
    "L2_sort.sort()\n",
    "print(L2_sort[-len(L2_index)-1:])"
   ]
  },
  {
   "cell_type": "markdown",
   "id": "7a029677-d635-4e4d-8198-a65fe78d1a07",
   "metadata": {},
   "source": [
    "Why are there multiple ($d$ for random Hamiltonian) fixed points? I guess there isn't a unique fixed point. This is because we haven't included the permutation. Need to understand why there are $d$ fixed points. I should look into purity and energies of each of the fixed points."
   ]
  },
  {
   "cell_type": "code",
   "execution_count": 19,
   "id": "aff25bdc-a8c2-4db1-aee7-60b91206ea05",
   "metadata": {},
   "outputs": [],
   "source": [
    "L3, U3 = np.linalg.eig(P_E)\n",
    "assert np.isclose(np.linalg.norm(P_E - U3 @ np.diag(L3) @ sp.linalg.inv(U3)), 0.0, atol=1.e-7, rtol=1.e-7)"
   ]
  },
  {
   "cell_type": "markdown",
   "id": "f315754b-4fcd-4dbf-a6b4-5c8ab31d36c0",
   "metadata": {},
   "source": [
    "For the non-Hermitian matrices, we need to use the inverse rather than the Hermitian conjugate."
   ]
  },
  {
   "cell_type": "code",
   "execution_count": 20,
   "id": "6bdc99c4-e26e-4a2b-aaa7-26b12005bac4",
   "metadata": {},
   "outputs": [
    {
     "name": "stdout",
     "output_type": "stream",
     "text": [
      "(0.9999999999999906+0j)\n",
      "[2] 1\n"
     ]
    }
   ],
   "source": [
    "print(np.max(L3))\n",
    "L3_index = np.where(np.isclose(np.abs(L3), 1.0, atol=1.e-14, rtol=1.e-14))[0]\n",
    "print(L3_index, len(L3_index))"
   ]
  },
  {
   "cell_type": "markdown",
   "id": "5382a5ea-6947-49d0-8405-cac69a7cae8e",
   "metadata": {},
   "source": [
    "Now, with the permutation inserted, we have a unique fixed point (at least for our random Hamiltonian)! The permutation is doing something."
   ]
  },
  {
   "cell_type": "code",
   "execution_count": 21,
   "id": "9ef6239d-a6e5-49fe-81e9-31598bb06966",
   "metadata": {},
   "outputs": [
    {
     "name": "stdout",
     "output_type": "stream",
     "text": [
      "[0.98458839 1.        ]\n"
     ]
    }
   ],
   "source": [
    "L3_sort = np.abs(L3)\n",
    "L3_sort.sort()\n",
    "print(L3_sort[-len(L3_index)-1:])"
   ]
  },
  {
   "cell_type": "markdown",
   "id": "b7b6ed0f-6650-494d-b9ed-b24d61347e7c",
   "metadata": {},
   "source": [
    "We have a spectral gap!"
   ]
  },
  {
   "cell_type": "markdown",
   "id": "fd60d8bf-a1b0-45f2-aa98-48f2cb180ce7",
   "metadata": {},
   "source": [
    "# Investigate fixed points"
   ]
  },
  {
   "cell_type": "markdown",
   "id": "0ea02560-e55d-48a6-bf74-8cdf497236e7",
   "metadata": {},
   "source": [
    "## Permutation channel"
   ]
  },
  {
   "cell_type": "code",
   "execution_count": 22,
   "id": "f8e66ce1-2fc3-4744-9d6f-283b2c36b88e",
   "metadata": {},
   "outputs": [
    {
     "name": "stdout",
     "output_type": "stream",
     "text": [
      "2 (0.9999999999999906+0j) [-3.78158781e-15 -3.23451335e-15 -3.02599809e-15 -2.82658780e-15\n",
      " -2.70900663e-15 -2.32314236e-15 -2.25729485e-15 -2.10241779e-15\n",
      " -1.92451579e-15 -1.90344448e-15 -1.59479696e-15 -1.58754621e-15\n",
      " -1.55640739e-15 -1.35204581e-15 -1.23238473e-15 -1.18103314e-15\n",
      " -1.00568001e-15 -9.51338467e-16 -8.27404369e-16 -6.38484980e-16\n",
      " -5.77303298e-16 -5.67207671e-16 -4.18340489e-16 -4.10634711e-16\n",
      " -2.40239598e-16 -2.19327419e-16 -1.99171850e-16 -5.97520032e-17\n",
      "  5.56364662e-17  1.87419786e-16  3.97605779e-16  1.00000000e+00]\n"
     ]
    }
   ],
   "source": [
    "L_fp = []\n",
    "valid_fps = []\n",
    "for i in L3_index:\n",
    "    L_fp.append(L3[i])\n",
    "    fp = U3[:,i].reshape(d,d)\n",
    "    assert np.isclose(np.linalg.norm(fp - fp.conj().T), 0.0)\n",
    "    fp = fp + fp.conj().T\n",
    "    fp /= fp.trace()\n",
    "    print(i, L3[i], np.linalg.eigh(fp)[0])\n",
    "    valid_fps.append(fp)"
   ]
  },
  {
   "cell_type": "code",
   "execution_count": 23,
   "id": "5a77cfce-9d26-4fbc-af99-8d08a7be17b8",
   "metadata": {},
   "outputs": [
    {
     "name": "stdout",
     "output_type": "stream",
     "text": [
      "GROUND STATE ENERGY: -4.9999999999999964\n",
      "Fixed point: 0\n",
      "Purity: (1.000000000000078+0j)\n",
      "Energy: (-5.000000000000172+0j)\n"
     ]
    }
   ],
   "source": [
    "print(\"GROUND STATE ENERGY:\", L[0])\n",
    "for i, vfp in enumerate(valid_fps):\n",
    "    print(\"Fixed point:\", i)\n",
    "    print(\"Purity:\", np.trace(vfp @ vfp))\n",
    "    print(\"Energy:\", np.trace(H @ vfp))"
   ]
  },
  {
   "cell_type": "markdown",
   "id": "0374770a-10b2-4292-b747-fa03b49af019",
   "metadata": {},
   "source": [
    "For the permutation channel, the single fixed point is the ground state; it's a pure quantum state and has the ground state energy."
   ]
  },
  {
   "cell_type": "markdown",
   "id": "c5475bba-42c8-4351-8ea8-a7104ded4e22",
   "metadata": {},
   "source": [
    "## Non-permutation channel\n",
    "The eigenvectors form a basis for the fixed point subspace, but they themselves are not Hermitian or PSD."
   ]
  },
  {
   "cell_type": "code",
   "execution_count": 24,
   "id": "8bfdcd9c-83fe-4ff5-af0d-209bc06ba616",
   "metadata": {},
   "outputs": [
    {
     "name": "stdout",
     "output_type": "stream",
     "text": [
      "923 0.9999999999999999 [-8.50226158e-15 -8.22404897e-15 -7.30853430e-15 -5.66344774e-15\n",
      " -5.56886840e-15 -3.69102837e-15 -3.33423680e-15 -2.03054680e-15\n",
      " -1.13704853e-15 -1.05930790e-15 -9.15118205e-16 -4.67050463e-16\n",
      " -1.56320244e-16  4.76615417e-17  4.82890505e-16  8.41569345e-16\n",
      "  1.48348596e-15  1.48493412e-15  2.34810826e-15  2.79050955e-15\n",
      "  3.14111279e-15  3.34557194e-15  4.97549139e-15  5.06780619e-15\n",
      "  5.86485524e-15  7.75555204e-15  3.12500000e-02  3.12500000e-02\n",
      "  1.56250000e-01  1.56250000e-01  3.12500000e-01  3.12500000e-01]\n"
     ]
    }
   ],
   "source": [
    "L_fp = []\n",
    "valid_fps = []\n",
    "for i in L2_index:\n",
    "    L_fp.append(L2[i])\n",
    "    fp = U2[:,i].reshape(d,d)\n",
    "    if np.linalg.norm(fp - fp.conj().T) < 1.e-4:\n",
    "    #assert np.isclose(np.linalg.norm(fp - fp.conj().T), 0.0)\n",
    "        fp = fp + fp.conj().T\n",
    "        fp /= fp.trace()\n",
    "        print(i, L2[i], np.linalg.eigh(fp)[0])\n",
    "        valid_fps.append(fp)"
   ]
  },
  {
   "cell_type": "code",
   "execution_count": 25,
   "id": "7ce1b284-5d9d-49f8-b8a9-112884558562",
   "metadata": {},
   "outputs": [
    {
     "name": "stdout",
     "output_type": "stream",
     "text": [
      "GROUND STATE ENERGY: -4.9999999999999964\n",
      "Fixed point: 0\n",
      "Purity: 0.24609375000000205\n",
      "Energy: -4.1330939549745036e-14\n"
     ]
    }
   ],
   "source": [
    "print(\"GROUND STATE ENERGY:\", L[0])\n",
    "for i, vfp in enumerate(valid_fps):\n",
    "    print(\"Fixed point:\", i)\n",
    "    print(\"Purity:\", np.trace(vfp @ vfp))\n",
    "    print(\"Energy:\", np.trace(H @ vfp))"
   ]
  },
  {
   "cell_type": "code",
   "execution_count": null,
   "id": "5af4c17d-b20d-4573-bc34-5ecd7f82cc23",
   "metadata": {},
   "outputs": [],
   "source": []
  }
 ],
 "metadata": {
  "kernelspec": {
   "display_name": "DMT",
   "language": "python",
   "name": "dmt"
  },
  "language_info": {
   "codemirror_mode": {
    "name": "ipython",
    "version": 3
   },
   "file_extension": ".py",
   "mimetype": "text/x-python",
   "name": "python",
   "nbconvert_exporter": "python",
   "pygments_lexer": "ipython3",
   "version": "3.12.2"
  }
 },
 "nbformat": 4,
 "nbformat_minor": 5
}
