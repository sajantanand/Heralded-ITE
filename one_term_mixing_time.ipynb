{
 "cells": [
  {
   "cell_type": "code",
   "execution_count": 1,
   "id": "035696f3-a7ae-445c-969f-079eade726d7",
   "metadata": {},
   "outputs": [],
   "source": [
    "import numpy as np\n",
    "import scipy as sp"
   ]
  },
  {
   "cell_type": "markdown",
   "id": "7dc09828-f224-47a2-ab45-d632d0dc3aca",
   "metadata": {},
   "source": [
    "# Define Hamiltonian\n",
    "We want a single body Hamiltonian as a $d \\times d$ matrix. We can either choose a specific Hamiltonian (TFI, AKLT, cluster state) or a random Hamiltonian."
   ]
  },
  {
   "cell_type": "code",
   "execution_count": 28,
   "id": "d6805695-1382-43e9-9e42-ba18f3fd6c37",
   "metadata": {},
   "outputs": [],
   "source": [
    "# Random Hamiltonian\n",
    "d = 10\n",
    "H = np.random.rand(d,d) + 1.j * np.random.rand(d,d)\n",
    "H = H + H.conj().T"
   ]
  },
  {
   "cell_type": "code",
   "execution_count": 3,
   "id": "5c20bac0-a964-4a08-bb16-485f225e55aa",
   "metadata": {},
   "outputs": [],
   "source": [
    "# Periodic TFI\n",
    "def kron(ops):\n",
    "    op = 1\n",
    "    for o in ops:\n",
    "        op = np.kron(op, o)\n",
    "    return op\n",
    "\n",
    "Z = np.array([[1,0],[0,-1]])\n",
    "X = np.array([[0,1],[1,0]])\n",
    "Y = np.array([[0,-1.j],[1.j,0]])\n",
    "Id = np.eye(2)\n",
    "\n",
    "def build_TFI_Hamiltoinan(L, Jz, hx, hz):\n",
    "    # Build full 2^L x 2^L Hamiltonian\n",
    "\n",
    "    H = np.zeros((2**L, 2**L), dtype=np.float64)\n",
    "\n",
    "    for i in range(L):\n",
    "        H += hx * kron([Id]*i + [X] + [Id]*(L-i-1))\n",
    "        H += hz * kron([Id]*i + [Z] + [Id]*(L-i-1))\n",
    "\n",
    "    Ising = [Z, Z] + [Id] * (L-2)\n",
    "    for i in range(L):\n",
    "        H += Jz * kron(Ising)\n",
    "        # Shift the first element to the last; periodic BCs!\n",
    "        Ising.append(Ising.pop(0))\n",
    "    return H\n",
    "    \n",
    "def build_cluster_state_Hamiltoinan(L):\n",
    "    # Build full 2^L x 2^L Hamiltonian\n",
    "\n",
    "    H = np.zeros((2**L, 2**L), dtype=np.float64)\n",
    "\n",
    "    Cluster = [Z, X, Z] + [Id] * (L-3)\n",
    "    for i in range(L):\n",
    "        H += -1 * kron(Cluster)\n",
    "        # Shift the first element to the last; periodic BCs!\n",
    "        Cluster.append(Cluster.pop(0))\n",
    "    return H\n",
    "\n",
    "#H = build_TFI_Hamiltoinan(5, 1, -1.4, 0.9045)\n",
    "#H = build_cluster_state_Hamiltoinan(5)\n",
    "#H = Z\n",
    "d = H.shape[0]"
   ]
  },
  {
   "cell_type": "code",
   "execution_count": 29,
   "id": "46bbb429-0aba-46e3-beae-de26bc529b5b",
   "metadata": {},
   "outputs": [],
   "source": [
    "L, U = np.linalg.eigh(H)\n",
    "assert np.isclose(np.linalg.norm(U @ np.diag(L) @ U.conj().T - H), 0.0)"
   ]
  },
  {
   "cell_type": "code",
   "execution_count": 30,
   "id": "e973af35-df9e-42fd-87ed-c99b123d3b72",
   "metadata": {},
   "outputs": [
    {
     "name": "stdout",
     "output_type": "stream",
     "text": [
      "[-2.48803285 -1.62378432 -1.29884051 -0.35736266 -0.23994722  0.55064579\n",
      "  1.4655626   1.80512199  2.19963017  9.43507219]\n"
     ]
    }
   ],
   "source": [
    "print(L)"
   ]
  },
  {
   "cell_type": "markdown",
   "id": "70c0c1b8-84be-4ff8-a94b-b8e4d91eafff",
   "metadata": {},
   "source": [
    "# Define Kraus operators for discrete quantum channel - Block Encoding"
   ]
  },
  {
   "cell_type": "code",
   "execution_count": 31,
   "id": "1f9e4d98-1945-4b47-be0d-ace454246520",
   "metadata": {},
   "outputs": [
    {
     "name": "stdout",
     "output_type": "stream",
     "text": [
      "[ 0.          0.86424853  1.18919234  2.13067019  2.24808563  3.03867864\n",
      "  3.95359545  4.29315484  4.68766302 11.92310504]\n"
     ]
    }
   ],
   "source": [
    "L_shift = L - np.min(L)\n",
    "print(L_shift)\n",
    "H_shift = U @ np.diag(L_shift) @ U.conj().T"
   ]
  },
  {
   "cell_type": "code",
   "execution_count": 32,
   "id": "b86a6aa3-3f96-469e-adfa-10974225f754",
   "metadata": {},
   "outputs": [],
   "source": [
    "beta = 0.1\n",
    "gamma_1 = sp.linalg.expm(-beta * H_shift)\n",
    "assert np.isclose(np.linalg.norm(U @ sp.linalg.expm(-beta * np.diag(L_shift)) @ U.conj().T - gamma_1), 0.0)"
   ]
  },
  {
   "cell_type": "code",
   "execution_count": 33,
   "id": "fa54c7df-395e-41d1-8b8e-737dc6b385b8",
   "metadata": {},
   "outputs": [],
   "source": [
    "gamma_2 = U @ np.diag(np.sqrt(1 - np.exp(-2*beta*L_shift))) @ U.conj().T"
   ]
  },
  {
   "cell_type": "code",
   "execution_count": 34,
   "id": "012eeaeb-6d29-4f12-ac03-ffbd548c6d4f",
   "metadata": {},
   "outputs": [],
   "source": [
    "P = np.roll(np.eye(d), 1, axis=1)\n",
    "P_gamma_2 = P @ gamma_2"
   ]
  },
  {
   "cell_type": "code",
   "execution_count": 35,
   "id": "e287e778-8a1f-4d1f-ad35-590d7e7612ad",
   "metadata": {},
   "outputs": [],
   "source": [
    "assert np.isclose(np.linalg.norm(np.eye(d) - (gamma_1.conj().T @ gamma_1 + gamma_2.conj().T @ gamma_2)), 0.0)\n",
    "assert np.isclose(np.linalg.norm(np.eye(d) - (gamma_1.conj().T @ gamma_1 + P_gamma_2.conj().T @ P_gamma_2)), 0.0)"
   ]
  },
  {
   "cell_type": "code",
   "execution_count": 36,
   "id": "b05da557-87b3-4eda-9e13-b9da435f06be",
   "metadata": {},
   "outputs": [],
   "source": [
    "assert np.isclose(np.linalg.norm(gamma_1 - gamma_1.conj().T), 0.0)\n",
    "assert np.isclose(np.linalg.norm(gamma_2 - gamma_2.conj().T), 0.0)\n",
    "assert not np.isclose(np.linalg.norm(P_gamma_2 - P_gamma_2.conj().T), 0.0)"
   ]
  },
  {
   "cell_type": "markdown",
   "id": "84dc8583-2fed-43b5-a353-dc0dd27dd428",
   "metadata": {},
   "source": [
    "Both $\\Gamma_1$ and $\\Gamma_2$ are Hermitian, as they should be. Both are matrix exponentials of Hermitian matrices with a real exponent (imaginary time evolution and all). Additionally, we have checked that $\\sum_i K_i^\\dagger K_i = 1$. $P \\Gamma_2$ is no longer Hermitian since we have applied a permutation matrix."
   ]
  },
  {
   "cell_type": "markdown",
   "id": "e063b25f-760f-4c7a-aa05-4269fc6d6fca",
   "metadata": {},
   "source": [
    "# Define Kraus operators for discrete quantum channel - Weak Measurement\n",
    "Operators from https://arxiv.org/pdf/2202.09100 without the conditional correction."
   ]
  },
  {
   "cell_type": "code",
   "execution_count": 79,
   "id": "cc721da0-e9df-4679-b4d0-d2709cd1126f",
   "metadata": {},
   "outputs": [
    {
     "name": "stdout",
     "output_type": "stream",
     "text": [
      "[-5.96155252 -5.09730399 -4.77236017 -3.83088233 -3.71346689 -2.92287387\n",
      " -2.00795706 -1.66839767 -1.2738895   5.96155252]\n"
     ]
    }
   ],
   "source": [
    "L_balanced = L - (np.min(L) + np.max(L))/2\n",
    "print(L_balanced)\n",
    "H_balanced = U @ np.diag(L_balanced) @ U.conj().T"
   ]
  },
  {
   "cell_type": "code",
   "execution_count": 102,
   "id": "c6ed6c0e-c80b-44f7-a677-0b4dde51dcdf",
   "metadata": {},
   "outputs": [
    {
     "name": "stdout",
     "output_type": "stream",
     "text": [
      "-0.7853981533974482 0.7853981533974481\n"
     ]
    }
   ],
   "source": [
    "gamma = 0.1\n",
    "gamma = (-np.pi/4 + 1.e-8) / np.min(L_balanced)\n",
    "#gamma = np.pi/4\n",
    "assert np.min(L_balanced) * gamma >= -np.pi/4\n",
    "assert np.max(L_balanced) * gamma <= np.pi/4\n",
    "print(np.min(L_balanced) * gamma, np.max(L_balanced) * gamma) "
   ]
  },
  {
   "cell_type": "code",
   "execution_count": 103,
   "id": "ff5be4c8-6acd-440a-81f2-dd9fd024a093",
   "metadata": {},
   "outputs": [],
   "source": [
    "M_0 = 1/np.sqrt(2) * (sp.linalg.cosm(gamma * H_balanced) - sp.linalg.sinm(gamma * H_balanced))\n",
    "M_1 = 1/np.sqrt(2) * (sp.linalg.cosm(gamma * H_balanced) + sp.linalg.sinm(gamma * H_balanced))"
   ]
  },
  {
   "cell_type": "code",
   "execution_count": 104,
   "id": "e0728086-df2c-4e37-b676-af2023d36f15",
   "metadata": {},
   "outputs": [],
   "source": [
    "assert np.isclose(np.linalg.norm(np.eye(d) - (M_0.conj().T @ M_0 + M_1.conj().T @ M_1)), 0.0)"
   ]
  },
  {
   "cell_type": "markdown",
   "id": "d68648b3-8967-47a6-ae56-073a8afa29ef",
   "metadata": {},
   "source": [
    "# Define vectorized channel\n",
    "We want the superoperator $E = \\sum_i K_i \\otimes \\overline{K_i}$, given Kraus operators $K_i$."
   ]
  },
  {
   "cell_type": "code",
   "execution_count": 105,
   "id": "c2d6f09e-8274-4c31-ad4c-e8faa15cffb8",
   "metadata": {},
   "outputs": [
    {
     "name": "stdout",
     "output_type": "stream",
     "text": [
      "(100, 100)\n"
     ]
    }
   ],
   "source": [
    "E = np.kron(gamma_1, gamma_1.conj()) + np.kron(gamma_2, gamma_2.conj())\n",
    "print(E.shape)"
   ]
  },
  {
   "cell_type": "code",
   "execution_count": 106,
   "id": "02a5f245-0519-4f3c-8fbb-3355e0d1a913",
   "metadata": {},
   "outputs": [
    {
     "name": "stdout",
     "output_type": "stream",
     "text": [
      "(100, 100)\n"
     ]
    }
   ],
   "source": [
    "P_E = np.kron(gamma_1, gamma_1.conj()) + np.kron(P_gamma_2, P_gamma_2.conj())\n",
    "print(P_E.shape)"
   ]
  },
  {
   "cell_type": "code",
   "execution_count": 107,
   "id": "aa499419-0f6f-4d55-8ab4-4201b9719fbb",
   "metadata": {},
   "outputs": [
    {
     "name": "stdout",
     "output_type": "stream",
     "text": [
      "(100, 100)\n"
     ]
    }
   ],
   "source": [
    "M_E = np.kron(M_0, M_0.conj()) + np.kron(M_1, M_1.conj())\n",
    "print(M_E.shape)"
   ]
  },
  {
   "cell_type": "code",
   "execution_count": 108,
   "id": "51267529-4737-4097-b62c-dac60ab76839",
   "metadata": {},
   "outputs": [],
   "source": [
    "assert np.isclose(np.linalg.norm(E - E.conj().T), 0.0)\n",
    "assert not np.isclose(np.linalg.norm(P_E - P_E.conj().T), 0.0)\n",
    "assert np.isclose(np.linalg.norm(M_E - M_E.conj().T), 0.0)"
   ]
  },
  {
   "cell_type": "markdown",
   "id": "8f24f857-05ff-45a4-8286-f3c2dc2ad32b",
   "metadata": {},
   "source": [
    "The superoperator without permutation is Hermitian. This makes sense since all Kraus operators are. However, the superoperator isn't."
   ]
  },
  {
   "cell_type": "code",
   "execution_count": 109,
   "id": "ff09c8ce-4d09-4364-b5b7-c39fad7ebbe3",
   "metadata": {},
   "outputs": [],
   "source": [
    "L2, U2 = np.linalg.eigh(E)\n",
    "assert np.isclose(np.linalg.norm(E - U2 @ np.diag(L2) @ U2.conj().T), 0.0)\n",
    "#assert np.isclose(np.linalg.norm(E - U2 @ np.diag(L2) @ sp.linalg.inv(U2)), 0.0)"
   ]
  },
  {
   "cell_type": "markdown",
   "id": "4cdcd6c4-8ffe-4269-947e-c5bee9429432",
   "metadata": {},
   "source": [
    "Columns of $U2$ are the right eigenvectors. I am using `np.linalg.eig` rather than `np.linalg.eigh` since the fixed point eigenvectors for `eigh` aren't Hermitian when viewed as density matrices. I am not sure why this is the case."
   ]
  },
  {
   "cell_type": "code",
   "execution_count": 110,
   "id": "d397f1b5-e917-49ab-8930-251f81fab116",
   "metadata": {},
   "outputs": [
    {
     "name": "stdout",
     "output_type": "stream",
     "text": [
      "1.000000000000001\n",
      "[90 91 92 93 94 95 96 97 98 99] 10\n"
     ]
    }
   ],
   "source": [
    "print(np.max(L2))\n",
    "L2_index = np.where(np.isclose(np.abs(L2), 1.0, atol=1.e-14, rtol=1.e-14))[0]\n",
    "print(L2_index, len(L2_index))"
   ]
  },
  {
   "cell_type": "code",
   "execution_count": 111,
   "id": "0473f03d-2b1c-4746-aeca-c77aa906fc50",
   "metadata": {},
   "outputs": [
    {
     "name": "stdout",
     "output_type": "stream",
     "text": [
      "[0.99987451 1.         1.         1.         1.         1.\n",
      " 1.         1.         1.         1.         1.        ]\n"
     ]
    }
   ],
   "source": [
    "L2_sort = np.abs(L2)\n",
    "L2_sort.sort()\n",
    "print(L2_sort[-len(L2_index)-1:])"
   ]
  },
  {
   "cell_type": "markdown",
   "id": "7a029677-d635-4e4d-8198-a65fe78d1a07",
   "metadata": {},
   "source": [
    "Why are there multiple ($d$ for random Hamiltonian) fixed points? I guess there isn't a unique fixed point. This is because we haven't included the permutation. Need to understand why there are $d$ fixed points. I should look into purity and energies of each of the fixed points."
   ]
  },
  {
   "cell_type": "code",
   "execution_count": 112,
   "id": "aff25bdc-a8c2-4db1-aee7-60b91206ea05",
   "metadata": {},
   "outputs": [],
   "source": [
    "L3, U3 = np.linalg.eig(P_E)\n",
    "assert np.isclose(np.linalg.norm(P_E - U3 @ np.diag(L3) @ sp.linalg.inv(U3)), 0.0, atol=1.e-7, rtol=1.e-7)"
   ]
  },
  {
   "cell_type": "markdown",
   "id": "f315754b-4fcd-4dbf-a6b4-5c8ab31d36c0",
   "metadata": {},
   "source": [
    "For the non-Hermitian matrices, we need to use the inverse rather than the Hermitian conjugate."
   ]
  },
  {
   "cell_type": "code",
   "execution_count": 113,
   "id": "6bdc99c4-e26e-4a2b-aaa7-26b12005bac4",
   "metadata": {},
   "outputs": [
    {
     "name": "stdout",
     "output_type": "stream",
     "text": [
      "(0.9999999999999966+1.4781126342604455e-15j)\n",
      "[52] 1\n"
     ]
    }
   ],
   "source": [
    "print(np.max(L3))\n",
    "L3_index = np.where(np.isclose(np.abs(L3), 1.0, atol=1.e-14, rtol=1.e-14))[0]\n",
    "print(L3_index, len(L3_index))"
   ]
  },
  {
   "cell_type": "markdown",
   "id": "5382a5ea-6947-49d0-8405-cac69a7cae8e",
   "metadata": {},
   "source": [
    "Now, with the permutation inserted, we have a unique fixed point (at least for our random Hamiltonian)! The permutation is doing something."
   ]
  },
  {
   "cell_type": "code",
   "execution_count": 114,
   "id": "9ef6239d-a6e5-49fe-81e9-31598bb06966",
   "metadata": {},
   "outputs": [
    {
     "name": "stdout",
     "output_type": "stream",
     "text": [
      "[0.98565702 1.        ]\n"
     ]
    }
   ],
   "source": [
    "L3_sort = np.abs(L3)\n",
    "L3_sort.sort()\n",
    "print(L3_sort[-len(L3_index)-1:])"
   ]
  },
  {
   "cell_type": "markdown",
   "id": "b7b6ed0f-6650-494d-b9ed-b24d61347e7c",
   "metadata": {},
   "source": [
    "We have a spectral gap!"
   ]
  },
  {
   "cell_type": "code",
   "execution_count": 115,
   "id": "699e5f63-3b23-4354-8bc5-3d14917affdb",
   "metadata": {},
   "outputs": [],
   "source": [
    "L4, U4 = np.linalg.eigh(M_E)\n",
    "assert np.isclose(np.linalg.norm(M_E - U4 @ np.diag(L4) @ U4.conj().T), 0.0)\n",
    "#assert np.isclose(np.linalg.norm(E - U2 @ np.diag(L2) @ sp.linalg.inv(U2)), 0.0)"
   ]
  },
  {
   "cell_type": "code",
   "execution_count": 116,
   "id": "462728a2-602a-49e9-bd4e-1b6ba4a493c1",
   "metadata": {},
   "outputs": [
    {
     "name": "stdout",
     "output_type": "stream",
     "text": [
      "1.0000000000000007\n",
      "[90 91 92 93 94 95 96 97 98 99] 10\n"
     ]
    }
   ],
   "source": [
    "print(np.max(L4))\n",
    "L4_index = np.where(np.isclose(np.abs(L4), 1.0, atol=1.e-14, rtol=1.e-14))[0]\n",
    "print(L4_index, len(L4_index))"
   ]
  },
  {
   "cell_type": "code",
   "execution_count": 117,
   "id": "73f57a12-2482-49dc-9033-2f07759b37a8",
   "metadata": {},
   "outputs": [
    {
     "name": "stdout",
     "output_type": "stream",
     "text": [
      "[0.99988036 1.         1.         1.         1.         1.\n",
      " 1.         1.         1.         1.         1.        ]\n"
     ]
    }
   ],
   "source": [
    "L4_sort = np.abs(L4)\n",
    "L4_sort.sort()\n",
    "print(L4_sort[-len(L4_index)-1:])"
   ]
  },
  {
   "cell_type": "markdown",
   "id": "fd60d8bf-a1b0-45f2-aa98-48f2cb180ce7",
   "metadata": {},
   "source": [
    "# Investigate fixed points"
   ]
  },
  {
   "cell_type": "markdown",
   "id": "0ea02560-e55d-48a6-bf74-8cdf497236e7",
   "metadata": {
    "jp-MarkdownHeadingCollapsed": true
   },
   "source": [
    "## Permutation channel"
   ]
  },
  {
   "cell_type": "code",
   "execution_count": 56,
   "id": "f8e66ce1-2fc3-4744-9d6f-283b2c36b88e",
   "metadata": {},
   "outputs": [
    {
     "name": "stdout",
     "output_type": "stream",
     "text": [
      "52 (0.9999999999999966+1.4781126342604455e-15j) [-2.18988265e-15 -9.42923396e-16  2.41049078e-16  5.04781452e-16\n",
      "  1.21606951e-15  2.70220446e-15  6.18755885e-15  8.68813756e-15\n",
      "  1.03355022e-14  1.00000000e+00]\n"
     ]
    }
   ],
   "source": [
    "L_fp = []\n",
    "valid_fps = []\n",
    "for i in L3_index:\n",
    "    L_fp.append(L3[i])\n",
    "    fp = U3[:,i].reshape(d,d)\n",
    "    assert np.isclose(np.linalg.norm(fp - fp.conj().T), 0.0)\n",
    "    fp = fp + fp.conj().T\n",
    "    fp /= fp.trace()\n",
    "    print(i, L3[i], np.linalg.eigh(fp)[0])\n",
    "    valid_fps.append(fp)"
   ]
  },
  {
   "cell_type": "code",
   "execution_count": 57,
   "id": "5a77cfce-9d26-4fbc-af99-8d08a7be17b8",
   "metadata": {},
   "outputs": [
    {
     "name": "stdout",
     "output_type": "stream",
     "text": [
      "GROUND STATE ENERGY: -2.4880328494621176\n",
      "Fixed point: 0\n",
      "Purity: (0.9999999999999464+0j)\n",
      "Energy: (-2.4880328494619945+6.938893903907228e-18j)\n"
     ]
    }
   ],
   "source": [
    "print(\"GROUND STATE ENERGY:\", L[0])\n",
    "for i, vfp in enumerate(valid_fps):\n",
    "    print(\"Fixed point:\", i)\n",
    "    print(\"Purity:\", np.trace(vfp @ vfp))\n",
    "    print(\"Energy:\", np.trace(H @ vfp))"
   ]
  },
  {
   "cell_type": "markdown",
   "id": "0374770a-10b2-4292-b747-fa03b49af019",
   "metadata": {},
   "source": [
    "For the permutation channel, the single fixed point is the ground state; it's a pure quantum state and has the ground state energy."
   ]
  },
  {
   "cell_type": "markdown",
   "id": "c5475bba-42c8-4351-8ea8-a7104ded4e22",
   "metadata": {},
   "source": [
    "## Non-permutation channel\n",
    "The eigenvectors form a basis for the fixed point subspace, but they themselves are not Hermitian or PSD."
   ]
  },
  {
   "cell_type": "code",
   "execution_count": 74,
   "id": "8bfdcd9c-83fe-4ff5-af0d-209bc06ba616",
   "metadata": {},
   "outputs": [
    {
     "name": "stdout",
     "output_type": "stream",
     "text": [
      "97 1.0000000000000004 [0.00178329 0.00548876 0.01344164 0.03152824 0.03184695 0.05234559\n",
      " 0.07833029 0.18448398 0.23196026 0.36879099]\n"
     ]
    }
   ],
   "source": [
    "L_fp = []\n",
    "valid_fps = []\n",
    "for i in L2_index:\n",
    "    L_fp.append(L2[i])\n",
    "    fp = U2[:,i].reshape(d,d)\n",
    "    if np.linalg.norm(fp - fp.conj().T) < 1.e-4:\n",
    "    #assert np.isclose(np.linalg.norm(fp - fp.conj().T), 0.0)\n",
    "        fp = fp + fp.conj().T\n",
    "        fp /= fp.trace()\n",
    "        print(i, L2[i], np.linalg.eigh(fp)[0])\n",
    "        valid_fps.append(fp)"
   ]
  },
  {
   "cell_type": "code",
   "execution_count": 75,
   "id": "7ce1b284-5d9d-49f8-b8a9-112884558562",
   "metadata": {},
   "outputs": [
    {
     "name": "stdout",
     "output_type": "stream",
     "text": [
      "GROUND STATE ENERGY: -2.4880328494621176\n",
      "Fixed point: 0\n",
      "Purity: (0.2349446369533869+0j)\n",
      "Energy: (1.7845605593294618-2.168404344971009e-17j)\n"
     ]
    }
   ],
   "source": [
    "print(\"GROUND STATE ENERGY:\", L[0])\n",
    "for i, vfp in enumerate(valid_fps):\n",
    "    print(\"Fixed point:\", i)\n",
    "    print(\"Purity:\", np.trace(vfp @ vfp))\n",
    "    print(\"Energy:\", np.trace(H @ vfp))"
   ]
  },
  {
   "cell_type": "markdown",
   "id": "fa574074-b24f-4347-9a6d-c4f8694716fe",
   "metadata": {},
   "source": [
    "## Weak measurement channel\n",
    "The eigenvectors form a basis for the fixed point subspace, but they themselves are not Hermitian or PSD."
   ]
  },
  {
   "cell_type": "code",
   "execution_count": 71,
   "id": "3180ec3b-092a-42f7-8e85-eaef97fed777",
   "metadata": {},
   "outputs": [
    {
     "name": "stdout",
     "output_type": "stream",
     "text": [
      "97 1.0000000000000002 [0.00178329 0.00548876 0.01344164 0.03152825 0.03184695 0.05234559\n",
      " 0.07833029 0.18448398 0.23196026 0.36879099]\n"
     ]
    }
   ],
   "source": [
    "L_fp = []\n",
    "valid_fps = []\n",
    "for i in L4_index:\n",
    "    L_fp.append(L4[i])\n",
    "    fp = U4[:,i].reshape(d,d)\n",
    "    if np.linalg.norm(fp - fp.conj().T) < 1.e-4:\n",
    "    #assert np.isclose(np.linalg.norm(fp - fp.conj().T), 0.0)\n",
    "        fp = fp + fp.conj().T\n",
    "        fp /= fp.trace()\n",
    "        print(i, L4[i], np.linalg.eigh(fp)[0])\n",
    "        valid_fps.append(fp)"
   ]
  },
  {
   "cell_type": "code",
   "execution_count": 72,
   "id": "1144da6a-33c6-40ea-bc49-aa1d511887ff",
   "metadata": {},
   "outputs": [
    {
     "name": "stdout",
     "output_type": "stream",
     "text": [
      "GROUND STATE ENERGY: -2.4880328494621176\n",
      "Fixed point: 0\n",
      "Purity: (0.23494463483966113+0j)\n",
      "Energy: (1.7845605770227526+1.3660947373317356e-17j)\n"
     ]
    }
   ],
   "source": [
    "print(\"GROUND STATE ENERGY:\", L[0])\n",
    "for i, vfp in enumerate(valid_fps):\n",
    "    print(\"Fixed point:\", i)\n",
    "    print(\"Purity:\", np.trace(vfp @ vfp))\n",
    "    print(\"Energy:\", np.trace(H @ vfp))"
   ]
  },
  {
   "cell_type": "code",
   "execution_count": null,
   "id": "750cad55-1261-46aa-a0ab-e8288dd33b38",
   "metadata": {},
   "outputs": [],
   "source": []
  }
 ],
 "metadata": {
  "kernelspec": {
   "display_name": "DMT",
   "language": "python",
   "name": "dmt"
  },
  "language_info": {
   "codemirror_mode": {
    "name": "ipython",
    "version": 3
   },
   "file_extension": ".py",
   "mimetype": "text/x-python",
   "name": "python",
   "nbconvert_exporter": "python",
   "pygments_lexer": "ipython3",
   "version": "3.12.2"
  }
 },
 "nbformat": 4,
 "nbformat_minor": 5
}
