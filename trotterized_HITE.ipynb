{
 "cells": [
  {
   "cell_type": "code",
   "execution_count": 1,
   "id": "8d765a25-ceab-4203-a0a1-5650c94ffdef",
   "metadata": {},
   "outputs": [],
   "source": [
    "import numpy as np\n",
    "import scipy as sp\n",
    "import matplotlib.pyplot as plt\n",
    "from tqdm import tqdm"
   ]
  },
  {
   "cell_type": "markdown",
   "id": "093c2501-e79d-4403-b50e-ee5ab43c988e",
   "metadata": {},
   "source": [
    "# Even-odd Hamiltonian - $L=4$"
   ]
  },
  {
   "cell_type": "code",
   "execution_count": 2,
   "id": "98e2be15-f50b-4109-a78f-766ea51b4481",
   "metadata": {},
   "outputs": [],
   "source": [
    "Z = np.array([[1,0],[0,-1]])\n",
    "Y = np.array([[0,-1.j],[1.j,0]])\n",
    "X = np.array([[0,1],[1,0]])\n",
    "I = np.eye(2)\n",
    "\n",
    "def kron(ops):\n",
    "    op = 1\n",
    "    for o in ops:\n",
    "        op = np.kron(op, o)\n",
    "    return op"
   ]
  },
  {
   "cell_type": "code",
   "execution_count": 114,
   "id": "fa7712a7-b0ca-44ab-82ef-5e4c9405fc1c",
   "metadata": {},
   "outputs": [],
   "source": [
    "# TFI Hamiltonian\n",
    "Jz = 1\n",
    "gx = 1.4\n",
    "gz = 0.9045\n",
    "h = Jz*np.kron(Z, Z) + gx/2 * (np.kron(X, I) + np.kron(I, X)) + gz/2 * (np.kron(Z, I) + np.kron(I, Z)) "
   ]
  },
  {
   "cell_type": "code",
   "execution_count": 115,
   "id": "da0101f1-5fd6-4297-a4e1-5aba90d3a0f7",
   "metadata": {},
   "outputs": [
    {
     "data": {
      "text/plain": [
       "array([[ 1.9045,  0.7   ,  0.7   ,  0.    ],\n",
       "       [ 0.7   , -1.    ,  0.    ,  0.7   ],\n",
       "       [ 0.7   ,  0.    , -1.    ,  0.7   ],\n",
       "       [ 0.    ,  0.7   ,  0.7   ,  0.0955]])"
      ]
     },
     "execution_count": 115,
     "metadata": {},
     "output_type": "execute_result"
    }
   ],
   "source": [
    "h"
   ]
  },
  {
   "cell_type": "code",
   "execution_count": 116,
   "id": "f2ba02e7-12e7-4ff7-8183-04f5abdea108",
   "metadata": {},
   "outputs": [
    {
     "name": "stdout",
     "output_type": "stream",
     "text": [
      "[-1.78630227 -1.          0.53186591  2.25443637]\n",
      "-1.7863022747631794\n"
     ]
    }
   ],
   "source": [
    "L, U = np.linalg.eigh(h)\n",
    "GS = U[:,0]\n",
    "print(L)\n",
    "print(GS.conj().T @ h @ GS)"
   ]
  },
  {
   "cell_type": "code",
   "execution_count": 117,
   "id": "0da8190d-0f38-4048-b172-ef06458f38bf",
   "metadata": {},
   "outputs": [],
   "source": [
    "psi0 = np.kron(GS, GS)"
   ]
  },
  {
   "cell_type": "code",
   "execution_count": 118,
   "id": "e0a6a856-3a26-4681-bc16-326c702f8d0e",
   "metadata": {},
   "outputs": [
    {
     "data": {
      "text/plain": [
       "-3.5726045495263588"
      ]
     },
     "execution_count": 118,
     "metadata": {},
     "output_type": "execute_result"
    }
   ],
   "source": [
    "psi0.conj().T @ (np.kron(h, np.eye(4)) + np.kron(np.eye(4), h)) @ psi0"
   ]
  },
  {
   "cell_type": "code",
   "execution_count": 119,
   "id": "eb7a7f8f-e76e-4038-b85e-32a0f99f9c82",
   "metadata": {},
   "outputs": [
    {
     "data": {
      "text/plain": [
       "-3.5726045495263588"
      ]
     },
     "execution_count": 119,
     "metadata": {},
     "output_type": "execute_result"
    }
   ],
   "source": [
    "L[0]*2"
   ]
  },
  {
   "cell_type": "code",
   "execution_count": 120,
   "id": "f062d3f4-5a8f-46ca-aa0e-fafbb3e6367d",
   "metadata": {},
   "outputs": [
    {
     "data": {
      "text/plain": [
       "array([[[[ 0.05334253, -0.14062623],\n",
       "         [-0.14062623,  0.10462136]],\n",
       "\n",
       "        [[-0.14062623,  0.37073114],\n",
       "         [ 0.37073114, -0.27581198]]],\n",
       "\n",
       "\n",
       "       [[[-0.14062623,  0.37073114],\n",
       "         [ 0.37073114, -0.27581198]],\n",
       "\n",
       "        [[ 0.10462136, -0.27581198],\n",
       "         [-0.27581198,  0.20519518]]]])"
      ]
     },
     "execution_count": 120,
     "metadata": {},
     "output_type": "execute_result"
    }
   ],
   "source": [
    "psi0.reshape(2,2,2,2)"
   ]
  },
  {
   "cell_type": "markdown",
   "id": "44b8e594-628c-4c4e-9b60-91a0f13c70d2",
   "metadata": {},
   "source": [
    "1. Construct 3 qubit block encoding\n",
    "2. Apply this to enlarged state of 1.5 * L qubits\n",
    "3. Determine measurement probability from norm of states\n",
    "4. "
   ]
  },
  {
   "cell_type": "code",
   "execution_count": 142,
   "id": "116e1df1-1631-45a3-ae14-e4036b1997ea",
   "metadata": {},
   "outputs": [],
   "source": [
    "# Function that does many steps\n",
    "def HITE(psi, beta, h, max_iter, adaptive=True, force_fail=False, verbose=False, seed=0, periodic=True, correct_iter=3, kill=0):\n",
    "    # psi is L leg tensor\n",
    "    # h is two qubit translationally invariant Hamiltonian term\n",
    "    if seed >= 0:\n",
    "        np.random.seed(seed)\n",
    "    d = h.shape[0]\n",
    "    ell = psi.ndim\n",
    "    \n",
    "    L, U = np.linalg.eigh(h) # Energy eigenbasis\n",
    "    GS = U[:,0]\n",
    "    Ut = U.reshape(2,2,2,2) # o1, o2, i1, i2\n",
    "    if ell % 2 == 0:\n",
    "        # Even number of sites; make pair GS\n",
    "        GSP = kron([GS] * (ell//2))\n",
    "\n",
    "    \"\"\"\n",
    "    Let a be the minimum of the spectrum. We want 1 - exp(-beta (a + shift)) = kill.\n",
    "    So when kill = 0, we want shift = -a; then when we fail a measurement, we kill the ground state.\n",
    "    In general, shift = log(1 - kill) / (-beta) - a\n",
    "    \"\"\"\n",
    "    # Shift spectrum of H to be non-negative with GS energy being 0\n",
    "    h_diag = np.diag(L)\n",
    "    shift = np.log(1 - kill) / (-beta) - np.min(L)\n",
    "    h_diag += shift * np.eye(d)\n",
    "    #h_diag -= np.min(L) * np.eye(d)\n",
    "    if verbose:\n",
    "        print(f\"Shifted Spectrum with shift {shift}: {np.diag(h_diag)}.\")\n",
    "    assert np.isclose((U.conj().T @ GS).conj().T @ h_diag @ (U.conj().T @ GS), np.min(L) + shift), GS.conj().T @ h_diag @ GS\n",
    "\n",
    "    def BE(beta):\n",
    "        # Make gamma = e^{-beta H_diag)\n",
    "        gamma = sp.linalg.expm(-beta * h_diag)\n",
    "        gammat = gamma.reshape(2,2,2,2)\n",
    "        gamma_bar = np.sqrt(np.eye(d) - gamma**2)\n",
    "        gamma_bart = gamma_bar.reshape(2,2,2,2)\n",
    "        U_gamma = np.zeros((2*d,2*d), dtype=gamma.dtype)\n",
    "        U_gamma[:d,:d] = gamma\n",
    "        U_gamma[d:,:d] = U_gamma[:d,d:] = gamma_bar\n",
    "        U_gamma[d:,d:] = -gamma\n",
    "        assert np.isclose(np.linalg.norm(U_gamma @ U_gamma.conj().T - np.eye(2*d)), 0.0)\n",
    "        return gammat, gamma_bart\n",
    "\n",
    "    assert periodic==True\n",
    "    h_terms = [h] + [I]*(ell-2)\n",
    "    h_big = kron(h_terms)\n",
    "    h_big = h_big.reshape([2]*(2*ell))\n",
    "    H = 0\n",
    "    for i in range(ell - (not periodic)):\n",
    "        H += h_big\n",
    "        h_big = h_big.transpose(list(range(1, ell)) + [0] + list(range(ell+1, 2*ell)) + [ell])\n",
    "        \n",
    "    H = H.reshape(2**ell, -1)\n",
    "\n",
    "    LW, UW = np.linalg.eigh(H) # Energy eigenbasis\n",
    "    if verbose:\n",
    "        print(f\"GS Energy: {LW[0]}.\")\n",
    "    GSW = UW[:,0]\n",
    "\n",
    "    psiF = psi.flatten()\n",
    "    Es = [[[psiF.conj().T @ H @ psiF]]] # Initial energy\n",
    "    Fs = [[[np.abs(GSW.conj().T @ psiF)**2]]]\n",
    "    Fs_P = [[[np.abs(GSP.conj().T @ psiF)**2]]]\n",
    "    \n",
    "    if verbose:\n",
    "        print(f\"Energy at iteration {0}: {Es[-1]}.\")\n",
    "        print(f\"Fidelity at iteration {0}: {Fs[-1]}.\")\n",
    "        print(f\"Pair fidelity at iteration {0}: {Fs_P[-1]}.\")\n",
    "        \n",
    "    mos = []\n",
    "    def permutation(fail_count, d):\n",
    "        # Define one particular choice of permutation matrix\n",
    "        P = np.eye(d)\n",
    "        if fail_count == 0:\n",
    "            P = np.roll(np.eye(d), 1, axis=1)\n",
    "        else:\n",
    "            P[:-fail_count,:-fail_count] = np.roll(P[:-fail_count,:-fail_count], 1, axis=1)\n",
    "        return P\n",
    "    for j in (tqdm(range(1, max_iter+1)) if verbose else range(1, max_iter+1)):\n",
    "        E_layer = []\n",
    "        F_layer = []\n",
    "        FP_layer = []\n",
    "        mo_layer = []\n",
    "        for oe in range(3):\n",
    "            # even odd Trotterization; second order\n",
    "            if oe == 0 or oe == 2:\n",
    "                gammat, gamma_bart = BE(beta/2)\n",
    "            elif oe == 1:\n",
    "                gammat, gamma_bart = BE(beta)\n",
    "            else:\n",
    "                assert False\n",
    "            \n",
    "            for i in range(0, ell, 2):\n",
    "                E_gate = []\n",
    "                F_gate = []\n",
    "                FP_gate = []\n",
    "                mo_gate = []\n",
    "                fail_count = 0\n",
    "                #for k in range(4):\n",
    "                k = 0\n",
    "                ci_local = correct_iter\n",
    "                while k < ci_local:\n",
    "                    # apply gate to (i, i+1)\n",
    "        \n",
    "                    # First move to local 2-site energy eigenbasis.\n",
    "                    psi = np.tensordot(Ut.conj(), psi, axes=([0,1],[i,i+1])) # i1, i2, 0, ..., i-1, i+2, ..., L-1\n",
    "                    reorder = list(range(2, i+2)) + [0,1] + list(range(i+2, ell))\n",
    "                    psi = psi.transpose(reorder)\n",
    "        \n",
    "                    gamma_psi = np.tensordot(gammat, psi, axes=([2,3],[i,i+1])) # i1, i2, 0, ..., i-1, i+2, ..., L-1\n",
    "                    gamma_psi = gamma_psi.transpose(reorder)\n",
    "                    gpF = gamma_psi.flatten()\n",
    "                    p0 = np.linalg.norm(gpF)**2\n",
    "                    p1 = 1 - p0\n",
    "                    if p1 < 1.e-14:\n",
    "                        p1 = 0\n",
    "                        p0 = 1\n",
    "                    mo = np.random.choice([0,1], size=1, p=[p0,p1])[0]\n",
    "                    if mo == 1 and kill == 0:\n",
    "                        # Want to see 3 successful measurements before going on.\n",
    "                        k = 0\n",
    "                        ci_local *= 2\n",
    "                    if p1 > 1.e-10 and force_fail:\n",
    "                        mo = 1\n",
    "                    mo_gate.append(mo)\n",
    "                    if verbose:\n",
    "                        print(f\"Measurement outcome and probability at round {k}: {mo}, {[p0,p1][mo]}.\")\n",
    "        \n",
    "                    if mo == 0:\n",
    "                        psi = gamma_psi\n",
    "                    else:\n",
    "                        gamma_psi = np.tensordot(gamma_bart, psi, axes=([2,3],[i,i+1])) # i1, i2, 0, ..., i-1, i+2, ..., L-1\n",
    "                        gamma_psi = gamma_psi.transpose(reorder)\n",
    "                        psi = gamma_psi\n",
    "                    assert np.isclose(np.linalg.norm(psi)**2, [p0,p1][mo])\n",
    "                    psi /= np.linalg.norm(psi)\n",
    "        \n",
    "                    if mo == 1 and adaptive and kill == 0:\n",
    "                        # Made measurement error; try to fix\n",
    "                        nP = permutation(fail_count, d)\n",
    "                        assert np.isclose(np.linalg.norm(nP @ nP.conj().T - np.eye(d)), 0.0)\n",
    "                        nP = nP.reshape(2,2,2,2)\n",
    "                        psi = np.tensordot(nP, psi, axes=([2,3],[i,i+1])) # i1, i2, 0, ..., i-1, i+2, ..., L-1\n",
    "                        psi = psi.transpose(reorder)\n",
    "                        fail_count += 1\n",
    "                    \n",
    "                    # Move back to compoutational basis on 2-qubit subspace\n",
    "                    psi = np.tensordot(Ut, psi, axes=([2,3],[i,i+1])) # i1, i2, 0, ..., i-1, i+2, ..., L-1\n",
    "                    psi = psi.transpose(reorder)\n",
    "        \n",
    "                    psiF = psi.flatten()\n",
    "                    E_gate.append(psiF.conj().T @ H @ psiF)\n",
    "                    F_gate.append(np.abs(GSW.conj().T @ psiF)**2)\n",
    "                    FP_gate.append(np.abs(GSP.conj().T @ psiF)**2)\n",
    "                    \n",
    "                    if len(E_gate) > 1 and np.abs(E_gate[-1] - E_gate[-2]) < 1.e-8:\n",
    "                        break\n",
    "                    k += 1\n",
    "                if verbose:\n",
    "                    print(f\"Energy at layer {j}, sublayer {oe}, gate {i+oe%2}: {E_gate[-1]}.\")\n",
    "                    print(f\"Fidelity at layer {j}, sublayer {oe}, gate {i+oe%2}: {F_gate[-1]}.\")\n",
    "                    print(f\"Pair fidelity at layer {j}, sublayer {oe}, gate {i+oe%2}: {FP_gate[-1]}.\")\n",
    "                E_layer.append(E_gate)\n",
    "                F_layer.append(F_gate)\n",
    "                FP_layer.append(FP_gate)\n",
    "                mo_layer.append(mo_gate)\n",
    "                if len(E_layer) > 1 and np.abs(np.mean(E_layer[-1]) - np.mean(E_layer[-2])) < 1.e-8:\n",
    "                    break\n",
    "                if oe == 0:\n",
    "                    psi = psi.transpose(np.roll(list(range(ell)), 1))\n",
    "                elif oe == 1:\n",
    "                    psi = psi.transpose(np.roll(list(range(ell)), -1))\n",
    "                \n",
    "        Es.append(E_layer)\n",
    "        Fs.append(F_layer)\n",
    "        Fs_P.append(FP_layer)\n",
    "        mos.append(mo_layer)\n",
    "        if len(Es) > 2 and np.abs(np.mean(Es[-1][-1]) - np.mean(Es[-2][-1])) < 1.e-8:\n",
    "            break\n",
    "        \n",
    "    return Es, Fs, Fs_P, mos, psi"
   ]
  },
  {
   "cell_type": "code",
   "execution_count": 143,
   "id": "0b82735e-17ff-4c26-beb4-536c8b80c935",
   "metadata": {},
   "outputs": [],
   "source": [
    "L = 4\n",
    "psi0 = np.random.rand(2**L) + 1.j * np.random.rand(2**L)\n",
    "psi0 /= np.linalg.norm(psi0)"
   ]
  },
  {
   "cell_type": "code",
   "execution_count": 144,
   "id": "cbe2ea87-b17e-4894-a79f-59c6712eefb5",
   "metadata": {
    "scrolled": true
   },
   "outputs": [
    {
     "name": "stdout",
     "output_type": "stream",
     "text": [
      "Shifted Spectrum with shift 1.7863022747631794: [0.         0.78630227 2.31816818 4.04073864].\n",
      "GS Energy: -6.742585317119429.\n",
      "Energy at iteration 0: [[(4.197111526337993+4.440892098500626e-16j)]].\n",
      "Fidelity at iteration 0: [[0.01435496900674648]].\n",
      "Pair fidelity at iteration 0: [[0.007794493918193305]].\n"
     ]
    },
    {
     "name": "stderr",
     "output_type": "stream",
     "text": [
      "100%|██████████| 1/1 [00:00<00:00, 47.63it/s]"
     ]
    },
    {
     "name": "stdout",
     "output_type": "stream",
     "text": [
      "Measurement outcome and probability at round 0: 1, 0.9492519147165681.\n",
      "Measurement outcome and probability at round 0: 1, 0.9126397013932638.\n",
      "Measurement outcome and probability at round 0: 1, 0.6159168179020654.\n",
      "Measurement outcome and probability at round 1: 0, 1.\n",
      "Energy at layer 1, sublayer 0, gate 0: (-0.5580928626471036+0j).\n",
      "Fidelity at layer 1, sublayer 0, gate 0: 0.019794526674989023.\n",
      "Pair fidelity at layer 1, sublayer 0, gate 0: 0.0022868958366505368.\n",
      "Measurement outcome and probability at round 0: 0, 0.12829622719361353.\n",
      "Measurement outcome and probability at round 1: 0, 0.9393594518671917.\n",
      "Measurement outcome and probability at round 2: 0, 0.9987343645963869.\n",
      "Energy at layer 1, sublayer 0, gate 2: (-5.117919881964348+4.440892098500626e-16j).\n",
      "Fidelity at layer 1, sublayer 0, gate 2: 0.5750080803224465.\n",
      "Pair fidelity at layer 1, sublayer 0, gate 2: 0.5540305648214561.\n",
      "Measurement outcome and probability at round 0: 1, 0.4071208546521773.\n",
      "Measurement outcome and probability at round 0: 1, 0.5912592847388691.\n",
      "Measurement outcome and probability at round 1: 0, 0.964285668248914.\n",
      "Measurement outcome and probability at round 2: 0, 0.999985751490837.\n",
      "Measurement outcome and probability at round 3: 0, 0.9999999945183891.\n",
      "Measurement outcome and probability at round 4: 0, 0.9999999999978912.\n",
      "Measurement outcome and probability at round 5: 0, 1.\n",
      "Measurement outcome and probability at round 6: 0, 1.\n",
      "Energy at layer 1, sublayer 1, gate 1: (-5.531965870820913+0j).\n",
      "Fidelity at layer 1, sublayer 1, gate 1: 0.6647209475132528.\n",
      "Pair fidelity at layer 1, sublayer 1, gate 1: 0.7096819491300047.\n",
      "Measurement outcome and probability at round 0: 0, 0.6869834642960355.\n",
      "Measurement outcome and probability at round 1: 0, 0.9999321967153206.\n",
      "Measurement outcome and probability at round 2: 0, 0.9999999739136833.\n",
      "Energy at layer 1, sublayer 1, gate 3: (-6.011094979312608+0j).\n",
      "Fidelity at layer 1, sublayer 1, gate 3: 0.8210423900269097.\n",
      "Pair fidelity at layer 1, sublayer 1, gate 3: 0.848547239374588.\n",
      "Measurement outcome and probability at round 0: 0, 0.7841262620976092.\n",
      "Measurement outcome and probability at round 1: 0, 0.9982021963099951.\n",
      "Measurement outcome and probability at round 2: 0, 0.9999647037180748.\n",
      "Energy at layer 1, sublayer 2, gate 0: (-6.068090582254735+0j).\n",
      "Fidelity at layer 1, sublayer 2, gate 0: 0.88272643686296.\n",
      "Pair fidelity at layer 1, sublayer 2, gate 0: 0.9213400141458096.\n",
      "Measurement outcome and probability at round 0: 0, 0.9213847225059074.\n",
      "Measurement outcome and probability at round 1: 0, 0.9999527945903155.\n",
      "Measurement outcome and probability at round 2: 0, 0.999999077042893.\n",
      "Energy at layer 1, sublayer 2, gate 2: (-6.133244503038831+8.881784197001252e-16j).\n",
      "Fidelity at layer 1, sublayer 2, gate 2: 0.9060430494946661.\n",
      "Pair fidelity at layer 1, sublayer 2, gate 2: 0.9999996052942336.\n"
     ]
    },
    {
     "name": "stderr",
     "output_type": "stream",
     "text": [
      "\n"
     ]
    }
   ],
   "source": [
    "Es_C, Fs_C, Fs_P_C, mos_C, psi_C = HITE(psi0.reshape([2]*L), 5, h, 1, adaptive=True, force_fail=False, verbose=True, seed=-1, correct_iter=3, kill=0.)"
   ]
  },
  {
   "cell_type": "code",
   "execution_count": 145,
   "id": "5689b088-161a-4dcd-94a8-4397c1b2f74c",
   "metadata": {},
   "outputs": [
    {
     "data": {
      "text/plain": [
       "[[0.01435496900674648]]"
      ]
     },
     "execution_count": 145,
     "metadata": {},
     "output_type": "execute_result"
    }
   ],
   "source": [
    "Fs_C[0]"
   ]
  },
  {
   "cell_type": "code",
   "execution_count": 146,
   "id": "074c49f4-815c-428a-87a7-6716ca9d085f",
   "metadata": {},
   "outputs": [
    {
     "data": {
      "text/plain": [
       "[0.01435496900674648, 0.9060430494946661]"
      ]
     },
     "execution_count": 146,
     "metadata": {},
     "output_type": "execute_result"
    }
   ],
   "source": [
    "[Fs_C[i][-1][-1] for i in range(2)]"
   ]
  },
  {
   "cell_type": "code",
   "execution_count": 149,
   "id": "ce68ee8b-bbd5-4b63-aea8-efc3191d9cd6",
   "metadata": {
    "scrolled": true
   },
   "outputs": [
    {
     "name": "stdout",
     "output_type": "stream",
     "text": [
      "Shifted Spectrum with shift 1.7863022747631794: [0.         0.78630227 2.31816818 4.04073864].\n",
      "GS Energy: -6.742585317119429.\n",
      "Energy at iteration 0: [[(-6.133244503038831+8.881784197001252e-16j)]].\n",
      "Fidelity at iteration 0: [[0.9060430494946661]].\n",
      "Pair fidelity at iteration 0: [[0.9999996052942336]].\n"
     ]
    },
    {
     "name": "stderr",
     "output_type": "stream",
     "text": [
      "100%|██████████| 10/10 [00:00<00:00, 107.58it/s]"
     ]
    },
    {
     "name": "stdout",
     "output_type": "stream",
     "text": [
      "Measurement outcome and probability at round 0: 0, 0.9999999854949979.\n",
      "Measurement outcome and probability at round 1: 0, 0.9999999860541986.\n",
      "Measurement outcome and probability at round 2: 0, 0.9999999865918414.\n",
      "Energy at layer 1, sublayer 0, gate 0: (-6.133244368773413+0j).\n",
      "Fidelity at layer 1, sublayer 0, gate 0: 0.9060430528262421.\n",
      "Pair fidelity at layer 1, sublayer 0, gate 0: 0.9999996471531802.\n",
      "Measurement outcome and probability at round 0: 0, 0.9765598157258317.\n",
      "Measurement outcome and probability at round 1: 0, 0.9794018909538894.\n",
      "Measurement outcome and probability at round 2: 0, 0.9818900498957959.\n",
      "Energy at layer 1, sublayer 0, gate 2: (-6.35127695306527+4.440892098500626e-16j).\n",
      "Fidelity at layer 1, sublayer 0, gate 2: 0.938470297746212.\n",
      "Pair fidelity at layer 1, sublayer 0, gate 2: 0.7845628684485121.\n",
      "Measurement outcome and probability at round 0: 0, 0.9992888107167989.\n",
      "Measurement outcome and probability at round 1: 0, 0.9994268924823441.\n",
      "Measurement outcome and probability at round 2: 0, 0.9995308237412958.\n",
      "Energy at layer 1, sublayer 1, gate 1: (-6.323423086421828+0j).\n",
      "Fidelity at layer 1, sublayer 1, gate 1: 0.9345401275497892.\n",
      "Pair fidelity at layer 1, sublayer 1, gate 1: 0.9956492506893723.\n",
      "Measurement outcome and probability at round 0: 0, 0.9681126077556331.\n",
      "Measurement outcome and probability at round 1: 0, 0.975112421472377.\n",
      "Measurement outcome and probability at round 2: 0, 0.9804157451975769.\n",
      "Energy at layer 1, sublayer 1, gate 3: (-6.531746389799157+0j).\n",
      "Fidelity at layer 1, sublayer 1, gate 3: 0.9658727184385802.\n",
      "Pair fidelity at layer 1, sublayer 1, gate 3: 0.8389150519671545.\n",
      "Measurement outcome and probability at round 0: 0, 0.997770206820927.\n",
      "Measurement outcome and probability at round 1: 0, 0.9980196598005786.\n",
      "Measurement outcome and probability at round 2: 0, 0.9982339386869403.\n",
      "Energy at layer 1, sublayer 2, gate 0: (-6.518902456897949+0j).\n",
      "Fidelity at layer 1, sublayer 2, gate 0: 0.9641468157423552.\n",
      "Pair fidelity at layer 1, sublayer 2, gate 0: 0.9723054301582714.\n",
      "Measurement outcome and probability at round 0: 0, 0.9982507512794809.\n",
      "Measurement outcome and probability at round 1: 0, 0.9984387590223699.\n",
      "Measurement outcome and probability at round 2: 0, 0.998600684617888.\n",
      "Energy at layer 1, sublayer 2, gate 2: (-6.503116232729807-4.440892098500626e-16j).\n",
      "Fidelity at layer 1, sublayer 2, gate 2: 0.961953451261816.\n",
      "Pair fidelity at layer 1, sublayer 2, gate 2: 0.9768992456039387.\n",
      "Measurement outcome and probability at round 0: 0, 0.9985745736996121.\n",
      "Measurement outcome and probability at round 1: 0, 0.9987230526813031.\n",
      "Measurement outcome and probability at round 2: 0, 0.9988513264733756.\n",
      "Energy at layer 2, sublayer 0, gate 0: (-6.485990302918239+4.440892098500626e-16j).\n",
      "Fidelity at layer 2, sublayer 0, gate 0: 0.9595454802654861.\n",
      "Pair fidelity at layer 2, sublayer 0, gate 0: 0.9806710288640067.\n",
      "Measurement outcome and probability at round 0: 0, 0.9887132389243155.\n",
      "Measurement outcome and probability at round 1: 0, 0.9899608136498698.\n",
      "Measurement outcome and probability at round 2: 0, 0.9910457890092959.\n",
      "Energy at layer 2, sublayer 0, gate 2: (-6.551295117067243+0j).\n",
      "Fidelity at layer 2, sublayer 0, gate 2: 0.9694135497786086.\n",
      "Pair fidelity at layer 2, sublayer 0, gate 2: 0.8403503571656614.\n",
      "Measurement outcome and probability at round 0: 0, 0.9958898050692482.\n",
      "Measurement outcome and probability at round 1: 0, 0.996674312570335.\n",
      "Measurement outcome and probability at round 2: 0, 0.9972651833472405.\n",
      "Energy at layer 2, sublayer 1, gate 1: (-6.520897883186031+4.440892098500626e-16j).\n",
      "Fidelity at layer 2, sublayer 1, gate 1: 0.9650495236006881.\n",
      "Pair fidelity at layer 2, sublayer 1, gate 1: 0.974241933737965.\n",
      "Measurement outcome and probability at round 0: 0, 0.9812367877901512.\n",
      "Measurement outcome and probability at round 1: 0, 0.9849309999766964.\n",
      "Measurement outcome and probability at round 2: 0, 0.9877472873833567.\n",
      "Energy at layer 2, sublayer 1, gate 3: (-6.589015440457507+4.440892098500626e-16j).\n",
      "Fidelity at layer 2, sublayer 1, gate 3: 0.9754806998113574.\n",
      "Pair fidelity at layer 2, sublayer 1, gate 3: 0.8639979283454994.\n",
      "Measurement outcome and probability at round 0: 0, 0.9960826743312341.\n",
      "Measurement outcome and probability at round 1: 0, 0.9965173530852691.\n",
      "Measurement outcome and probability at round 2: 0, 0.9968910310284557.\n",
      "Energy at layer 2, sublayer 2, gate 0: (-6.588233090297264-4.440892098500626e-16j).\n",
      "Fidelity at layer 2, sublayer 2, gate 0: 0.9754545702321019.\n",
      "Pair fidelity at layer 2, sublayer 2, gate 0: 0.9515247062532041.\n",
      "Measurement outcome and probability at round 0: 0, 0.9971344454685008.\n",
      "Measurement outcome and probability at round 1: 0, 0.9974274098294706.\n",
      "Measurement outcome and probability at round 2: 0, 0.9976806432764328.\n",
      "Energy at layer 2, sublayer 2, gate 2: (-6.578360497214931+8.881784197001252e-16j).\n",
      "Fidelity at layer 2, sublayer 2, gate 2: 0.974035943972905.\n",
      "Pair fidelity at layer 2, sublayer 2, gate 2: 0.9589445721281596.\n",
      "Measurement outcome and probability at round 0: 0, 0.9974586212754923.\n",
      "Measurement outcome and probability at round 1: 0, 0.997720877033701.\n",
      "Measurement outcome and probability at round 2: 0, 0.9979474983559217.\n",
      "Energy at layer 3, sublayer 0, gate 0: (-6.566047069669432+4.440892098500626e-16j).\n",
      "Fidelity at layer 3, sublayer 0, gate 0: 0.9722873656741737.\n",
      "Pair fidelity at layer 3, sublayer 0, gate 0: 0.9655657743341354.\n",
      "Measurement outcome and probability at round 0: 0, 0.9915706515499205.\n",
      "Measurement outcome and probability at round 1: 0, 0.9924237609579467.\n",
      "Measurement outcome and probability at round 2: 0, 0.9931684831179638.\n",
      "Energy at layer 3, sublayer 0, gate 2: (-6.598050873368068+4.440892098500626e-16j).\n",
      "Fidelity at layer 3, sublayer 0, gate 2: 0.9771582578868677.\n",
      "Pair fidelity at layer 3, sublayer 0, gate 2: 0.8563749297861969.\n",
      "Measurement outcome and probability at round 0: 0, 0.9944256222464304.\n",
      "Measurement outcome and probability at round 1: 0, 0.9954450304269209.\n",
      "Measurement outcome and probability at round 2: 0, 0.996217645090013.\n",
      "Energy at layer 3, sublayer 1, gate 1: (-6.573880185805411+0j).\n",
      "Fidelity at layer 3, sublayer 1, gate 1: 0.9735773017964356.\n",
      "Pair fidelity at layer 3, sublayer 1, gate 1: 0.9625658413497583.\n",
      "Measurement outcome and probability at round 0: 0, 0.9846329611514266.\n",
      "Measurement outcome and probability at round 1: 0, 0.9874532086741337.\n",
      "Measurement outcome and probability at round 2: 0, 0.9896210144882199.\n",
      "Energy at layer 3, sublayer 1, gate 3: (-6.609211784554663+0j).\n",
      "Fidelity at layer 3, sublayer 1, gate 3: 0.9790314114665888.\n",
      "Pair fidelity at layer 3, sublayer 1, gate 3: 0.872553411436323.\n",
      "Measurement outcome and probability at round 0: 0, 0.9954037876929152.\n",
      "Measurement outcome and probability at round 1: 0, 0.9959079868612026.\n",
      "Measurement outcome and probability at round 2: 0, 0.9963418103574434.\n",
      "Energy at layer 3, sublayer 2, gate 0: (-6.613662848053435+0j).\n",
      "Fidelity at layer 3, sublayer 2, gate 0: 0.9797347073806604.\n",
      "Pair fidelity at layer 3, sublayer 2, gate 0: 0.9428636069330751.\n",
      "Measurement outcome and probability at round 0: 0, 0.9967733850368568.\n",
      "Measurement outcome and probability at round 1: 0, 0.9970905519646813.\n",
      "Measurement outcome and probability at round 2: 0, 0.9973654347005243.\n",
      "Energy at layer 3, sublayer 2, gate 2: (-6.60559327922755+0j).\n",
      "Fidelity at layer 3, sublayer 2, gate 2: 0.978531524479826.\n",
      "Pair fidelity at layer 3, sublayer 2, gate 2: 0.9511817862998493.\n",
      "Measurement outcome and probability at round 0: 0, 0.9969911456651859.\n",
      "Measurement outcome and probability at round 1: 0, 0.9972974306373269.\n",
      "Measurement outcome and probability at round 2: 0, 0.9975623239907363.\n",
      "Energy at layer 4, sublayer 0, gate 0: (-6.595733496033404+0j).\n",
      "Fidelity at layer 4, sublayer 0, gate 0: 0.9771179552624237.\n",
      "Pair fidelity at layer 4, sublayer 0, gate 0: 0.9589754423321306.\n",
      "Measurement outcome and probability at round 0: 0, 0.9924070379151552.\n",
      "Measurement outcome and probability at round 1: 0, 0.9931427729751295.\n",
      "Measurement outcome and probability at round 2: 0, 0.9937863094726271.\n",
      "Energy at layer 4, sublayer 0, gate 2: (-6.618522124880859+4.440892098500626e-16j).\n",
      "Fidelity at layer 4, sublayer 0, gate 2: 0.9805800349033381.\n",
      "Pair fidelity at layer 4, sublayer 0, gate 2: 0.8623707198118984.\n",
      "Measurement outcome and probability at round 0: 0, 0.9939626640039436.\n",
      "Measurement outcome and probability at round 1: 0, 0.9950294117804493.\n",
      "Measurement outcome and probability at round 2: 0, 0.9958420940649673.\n",
      "Energy at layer 4, sublayer 1, gate 1: (-6.595807666264003+0j).\n",
      "Fidelity at layer 4, sublayer 1, gate 1: 0.9771513880598743.\n",
      "Pair fidelity at layer 4, sublayer 1, gate 1: 0.9574823065057313.\n",
      "Measurement outcome and probability at round 0: 0, 0.9857027370603554.\n",
      "Measurement outcome and probability at round 1: 0, 0.9882420266150571.\n",
      "Measurement outcome and probability at round 2: 0, 0.9902006554025706.\n",
      "Energy at layer 4, sublayer 1, gate 3: (-6.621420943903929+0j).\n",
      "Fidelity at layer 4, sublayer 1, gate 3: 0.9810936765148901.\n",
      "Pair fidelity at layer 4, sublayer 1, gate 3: 0.8762205471673978.\n",
      "Measurement outcome and probability at round 0: 0, 0.9951529905040319.\n",
      "Measurement outcome and probability at round 1: 0, 0.9956783128252535.\n",
      "Measurement outcome and probability at round 2: 0, 0.9961307337481887.\n",
      "Energy at layer 4, sublayer 2, gate 0: (-6.627406065233004-4.440892098500626e-16j).\n",
      "Fidelity at layer 4, sublayer 2, gate 0: 0.982010649660881.\n",
      "Pair fidelity at layer 4, sublayer 2, gate 0: 0.9392223595728236.\n",
      "Measurement outcome and probability at round 0: 0, 0.9966646803316902.\n",
      "Measurement outcome and probability at round 1: 0, 0.9969834335251346.\n",
      "Measurement outcome and probability at round 2: 0, 0.9972602303084626.\n",
      "Energy at layer 4, sublayer 2, gate 2: (-6.619458411892966-4.440892098500626e-16j).\n",
      "Fidelity at layer 4, sublayer 2, gate 2: 0.980805201051268.\n",
      "Pair fidelity at layer 4, sublayer 2, gate 2: 0.9478135496140531.\n",
      "Measurement outcome and probability at round 0: 0, 0.9968073642734774.\n",
      "Measurement outcome and probability at round 1: 0, 0.9971278183018486.\n",
      "Measurement outcome and probability at round 2: 0, 0.9974052631304087.\n",
      "Energy at layer 5, sublayer 0, gate 0: (-6.610308569699388+0j).\n",
      "Fidelity at layer 5, sublayer 0, gate 0: 0.9794883671038239.\n",
      "Pair fidelity at layer 5, sublayer 0, gate 0: 0.9560688905610069.\n",
      "Measurement outcome and probability at round 0: 0, 0.9926946262902328.\n",
      "Measurement outcome and probability at round 1: 0, 0.9933889519490859.\n",
      "Measurement outcome and probability at round 2: 0, 0.9939966535614435.\n",
      "Energy at layer 5, sublayer 0, gate 2: (-6.630020947350405+4.440892098500626e-16j).\n",
      "Fidelity at layer 5, sublayer 0, gate 2: 0.9824669182656262.\n",
      "Pair fidelity at layer 5, sublayer 0, gate 2: 0.8650425396310124.\n",
      "Measurement outcome and probability at round 0: 0, 0.9938160278069686.\n",
      "Measurement outcome and probability at round 1: 0, 0.9948824381182441.\n",
      "Measurement outcome and probability at round 2: 0, 0.9956979848335507.\n",
      "Energy at layer 5, sublayer 1, gate 1: (-6.607199680254519+0j).\n",
      "Fidelity at layer 5, sublayer 1, gate 1: 0.9789982925863391.\n",
      "Pair fidelity at layer 5, sublayer 1, gate 1: 0.9551616370533403.\n",
      "Measurement outcome and probability at round 0: 0, 0.9860919505374252.\n",
      "Measurement outcome and probability at round 1: 0, 0.9885256285952049.\n",
      "Measurement outcome and probability at round 2: 0, 0.9904049861443215.\n",
      "Energy at layer 5, sublayer 1, gate 3: (-6.629418695782856-4.440892098500626e-16j).\n",
      "Fidelity at layer 5, sublayer 1, gate 3: 0.9823924682319911.\n",
      "Pair fidelity at layer 5, sublayer 1, gate 3: 0.878026230883914.\n",
      "Measurement outcome and probability at round 0: 0, 0.9950618720552314.\n",
      "Measurement outcome and probability at round 1: 0, 0.995591376409923.\n",
      "Measurement outcome and probability at round 2: 0, 0.9960477982750122.\n",
      "Energy at layer 5, sublayer 2, gate 0: (-6.635640732748473+0j).\n",
      "Fidelity at layer 5, sublayer 2, gate 0: 0.9833443873582206.\n",
      "Pair fidelity at layer 5, sublayer 2, gate 0: 0.9375211191140334.\n",
      "Measurement outcome and probability at round 0: 0, 0.9966294032295819.\n",
      "Measurement outcome and probability at round 1: 0, 0.9969454974590952.\n",
      "Measurement outcome and probability at round 2: 0, 0.9972203634730213.\n",
      "Energy at layer 5, sublayer 2, gate 2: (-6.627468047783097+4.440892098500626e-16j).\n",
      "Fidelity at layer 5, sublayer 2, gate 2: 0.9820984675870416.\n",
      "Pair fidelity at layer 5, sublayer 2, gate 2: 0.9462040643376608.\n",
      "Measurement outcome and probability at round 0: 0, 0.9967331018735934.\n",
      "Measurement outcome and probability at round 1: 0, 0.9970570607944839.\n",
      "Measurement outcome and probability at round 2: 0, 0.9973378283652528.\n",
      "Energy at layer 6, sublayer 0, gate 0: (-6.618404364151191+0j).\n",
      "Fidelity at layer 6, sublayer 0, gate 0: 0.9807942105278388.\n",
      "Pair fidelity at layer 6, sublayer 0, gate 0: 0.9546487811326618.\n",
      "Measurement outcome and probability at round 0: 0, 0.9928079112543067.\n",
      "Measurement outcome and probability at round 1: 0, 0.9934854126632633.\n",
      "Measurement outcome and probability at round 2: 0, 0.994078465180918.\n",
      "Energy at layer 6, sublayer 0, gate 2: (-6.636935076690798-4.440892098500626e-16j).\n",
      "Fidelity at layer 6, sublayer 0, gate 2: 0.9835793264986856.\n",
      "Pair fidelity at layer 6, sublayer 0, gate 2: 0.8663837428695249.\n",
      "Measurement outcome and probability at round 0: 0, 0.9937628339829068.\n",
      "Measurement outcome and probability at round 1: 0, 0.9948212337153851.\n",
      "Measurement outcome and probability at round 2: 0, 0.9956328196150683.\n",
      "Energy at layer 6, sublayer 1, gate 1: (-6.613756174818015+0j).\n",
      "Fidelity at layer 6, sublayer 1, gate 1: 0.9800497670335898.\n",
      "Pair fidelity at layer 6, sublayer 1, gate 1: 0.9539933225358841.\n",
      "Measurement outcome and probability at round 0: 0, 0.9862531303783683.\n",
      "Measurement outcome and probability at round 1: 0, 0.9886414554745167.\n",
      "Measurement outcome and probability at round 2: 0, 0.9904863862748631.\n",
      "Energy at layer 6, sublayer 1, gate 3: (-6.634626594292711+4.440892098500626e-16j).\n",
      "Fidelity at layer 6, sublayer 1, gate 3: 0.9832141185485563.\n",
      "Pair fidelity at layer 6, sublayer 1, gate 3: 0.8789962229350486.\n",
      "Measurement outcome and probability at round 0: 0, 0.9950289688501932.\n",
      "Measurement outcome and probability at round 1: 0, 0.9955574927306804.\n",
      "Measurement outcome and probability at round 2: 0, 0.9960134049760785.\n",
      "Energy at layer 6, sublayer 2, gate 0: (-6.640720572843681+0j).\n",
      "Fidelity at layer 6, sublayer 2, gate 0: 0.9841512165472065.\n",
      "Pair fidelity at layer 6, sublayer 2, gate 0: 0.9366277782266068.\n",
      "Measurement outcome and probability at round 0: 0, 0.9966153271695259.\n",
      "Measurement outcome and probability at round 1: 0, 0.9969288785852163.\n",
      "Measurement outcome and probability at round 2: 0, 0.9972017903107832.\n",
      "Energy at layer 6, sublayer 2, gate 2: (-6.632330964088488+0j).\n",
      "Fidelity at layer 6, sublayer 2, gate 2: 0.9828712232695088.\n",
      "Pair fidelity at layer 6, sublayer 2, gate 2: 0.9453491665535049.\n",
      "Measurement outcome and probability at round 0: 0, 0.996701141775067.\n",
      "Measurement outcome and probability at round 1: 0, 0.9970252060298972.\n",
      "Measurement outcome and probability at round 2: 0, 0.9973063060659949.\n",
      "Energy at layer 7, sublayer 0, gate 0: (-6.623186565186232+0j).\n",
      "Fidelity at layer 7, sublayer 0, gate 0: 0.9815574920358785.\n",
      "Pair fidelity at layer 7, sublayer 0, gate 0: 0.9538774604574356.\n",
      "Measurement outcome and probability at round 0: 0, 0.992859078908404.\n",
      "Measurement outcome and probability at round 1: 0, 0.9935288166262826.\n",
      "Measurement outcome and probability at round 2: 0, 0.9941150554470238.\n",
      "Energy at layer 7, sublayer 0, gate 2: (-6.6411995512123765+0j).\n",
      "Fidelity at layer 7, sublayer 0, gate 2: 0.9842534055903999.\n",
      "Pair fidelity at layer 7, sublayer 0, gate 2: 0.8671150344635508.\n",
      "Measurement outcome and probability at round 0: 0, 0.9937383663884722.\n",
      "Measurement outcome and probability at round 1: 0, 0.9947899876069715.\n",
      "Measurement outcome and probability at round 2: 0, 0.9955978296737363.\n",
      "Energy at layer 7, sublayer 1, gate 1: (-6.617727688733127+0j).\n",
      "Fidelity at layer 7, sublayer 1, gate 1: 0.9806788414944029.\n",
      "Pair fidelity at layer 7, sublayer 1, gate 1: 0.9533479503895232.\n",
      "Measurement outcome and probability at round 0: 0, 0.9863291092675814.\n",
      "Measurement outcome and probability at round 1: 0, 0.9886955356241872.\n",
      "Measurement outcome and probability at round 2: 0, 0.9905236089797953.\n",
      "Energy at layer 7, sublayer 1, gate 3: (-6.6379912104132+0j).\n",
      "Fidelity at layer 7, sublayer 1, gate 3: 0.9837326317495065.\n",
      "Pair fidelity at layer 7, sublayer 1, gate 3: 0.8795471455782059.\n",
      "Measurement outcome and probability at round 0: 0, 0.9950171586250615.\n",
      "Measurement outcome and probability at round 1: 0, 0.9955435974592719.\n",
      "Measurement outcome and probability at round 2: 0, 0.9959979738899465.\n",
      "Energy at layer 7, sublayer 2, gate 0: (-6.643899461535039+0j).\n",
      "Fidelity at layer 7, sublayer 2, gate 0: 0.9846471632738066.\n",
      "Pair fidelity at layer 7, sublayer 2, gate 0: 0.9361123305439735.\n",
      "Measurement outcome and probability at round 0: 0, 0.9966079009526064.\n",
      "Measurement outcome and probability at round 1: 0, 0.9969196924630874.\n",
      "Measurement outcome and probability at round 2: 0, 0.9971912447958631.\n",
      "Energy at layer 7, sublayer 2, gate 2: (-6.635359215344883+0j).\n",
      "Fidelity at layer 7, sublayer 2, gate 2: 0.9833448968974431.\n",
      "Pair fidelity at layer 7, sublayer 2, gate 2: 0.9448546578123609.\n",
      "Measurement outcome and probability at round 0: 0, 0.9966861311960633.\n",
      "Measurement outcome and probability at round 1: 0, 0.9970094398742855.\n",
      "Measurement outcome and probability at round 2: 0, 0.99729007123898.\n",
      "Energy at layer 8, sublayer 0, gate 0: (-6.626115190912946+0j).\n",
      "Fidelity at layer 8, sublayer 0, gate 0: 0.9820194364452034.\n",
      "Pair fidelity at layer 8, sublayer 0, gate 0: 0.9534234458404124.\n",
      "Measurement outcome and probability at round 0: 0, 0.9928854600745858.\n",
      "Measurement outcome and probability at round 1: 0, 0.9935512081925342.\n",
      "Measurement outcome and probability at round 2: 0, 0.9941339130324107.\n",
      "Energy at layer 8, sublayer 0, gate 2: (-6.643870186795499-4.440892098500626e-16j).\n",
      "Fidelity at layer 8, sublayer 0, gate 2: 0.9846684537517305.\n",
      "Pair fidelity at layer 8, sublayer 0, gate 2: 0.8675367817196693.\n",
      "Measurement outcome and probability at round 0: 0, 0.993724109628748.\n",
      "Measurement outcome and probability at round 1: 0, 0.9947712280606285.\n",
      "Measurement outcome and probability at round 2: 0, 0.9955765778897212.\n",
      "Energy at layer 8, sublayer 1, gate 1: (-6.620204551175893-4.440892098500626e-16j).\n",
      "Fidelity at layer 8, sublayer 1, gate 1: 0.9810659326019382.\n",
      "Pair fidelity at layer 8, sublayer 1, gate 1: 0.952965499468647.\n",
      "Measurement outcome and probability at round 0: 0, 0.9863695548698702.\n",
      "Measurement outcome and probability at round 1: 0, 0.9887243544608734.\n",
      "Measurement outcome and probability at round 2: 0, 0.9905433284194743.\n",
      "Energy at layer 8, sublayer 1, gate 3: (-6.640159201867665+0j).\n",
      "Fidelity at layer 8, sublayer 1, gate 3: 0.9840594417330392.\n",
      "Pair fidelity at layer 8, sublayer 1, gate 3: 0.8798714889554928.\n",
      "Measurement outcome and probability at round 0: 0, 0.995012880624611.\n",
      "Measurement outcome and probability at round 1: 0, 0.9955373863521018.\n",
      "Measurement outcome and probability at round 2: 0, 0.9959902922266819.\n",
      "Energy at layer 8, sublayer 2, gate 0: (-6.645909890839676-4.440892098500626e-16j).\n",
      "Fidelity at layer 8, sublayer 2, gate 0: 0.9849552084834426.\n",
      "Pair fidelity at layer 8, sublayer 2, gate 0: 0.9357951272270051.\n",
      "Measurement outcome and probability at round 0: 0, 0.9966030659943521.\n",
      "Measurement outcome and probability at round 1: 0, 0.9969137497118978.\n",
      "Measurement outcome and probability at round 2: 0, 0.9971844529896786.\n",
      "Energy at layer 8, sublayer 2, gate 2: (-6.637275205410518+0j).\n",
      "Fidelity at layer 8, sublayer 2, gate 2: 0.9836396824742009.\n",
      "Pair fidelity at layer 8, sublayer 2, gate 2: 0.944551138308859.\n",
      "Measurement outcome and probability at round 0: 0, 0.996678294594646.\n",
      "Measurement outcome and probability at round 1: 0, 0.997000802188604.\n",
      "Measurement outcome and probability at round 2: 0, 0.9972808770052293.\n",
      "Energy at layer 9, sublayer 0, gate 0: (-6.62795112282482+0j).\n",
      "Fidelity at layer 9, sublayer 0, gate 0: 0.9823052170656145.\n",
      "Pair fidelity at layer 9, sublayer 0, gate 0: 0.953141712620643.\n",
      "Measurement outcome and probability at round 0: 0, 0.9929006650679995.\n",
      "Measurement outcome and probability at round 1: 0, 0.9935641920616611.\n",
      "Measurement outcome and probability at round 2: 0, 0.9941449089531852.\n",
      "Energy at layer 9, sublayer 0, gate 2: (-6.645562084932027+0j).\n",
      "Fidelity at layer 9, sublayer 0, gate 2: 0.9849267849405202.\n",
      "Pair fidelity at layer 9, sublayer 0, gate 2: 0.8677893122913255.\n",
      "Measurement outcome and probability at round 0: 0, 0.9937145214432476.\n",
      "Measurement outcome and probability at round 1: 0, 0.9947588807493105.\n",
      "Measurement outcome and probability at round 2: 0, 0.9955627523489751.\n",
      "Energy at layer 9, sublayer 1, gate 1: (-6.621778060178265+4.440892098500626e-16j).\n",
      "Fidelity at layer 9, sublayer 1, gate 1: 0.9813082108708345.\n",
      "Pair fidelity at layer 9, sublayer 1, gate 1: 0.9527277150634395.\n",
      "Measurement outcome and probability at round 0: 0, 0.9863933656602847.\n",
      "Measurement outcome and probability at round 1: 0, 0.9887415521422056.\n",
      "Measurement outcome and probability at round 2: 0, 0.9905552511179142.\n",
      "Energy at layer 9, sublayer 1, gate 3: (-6.641557214713891+0j).\n",
      "Fidelity at layer 9, sublayer 1, gate 3: 0.9842653464698243.\n",
      "Pair fidelity at layer 9, sublayer 1, gate 3: 0.8800669388441736.\n",
      "Measurement outcome and probability at round 0: 0, 0.9950111949010184.\n",
      "Measurement outcome and probability at round 1: 0, 0.9955342084782537.\n",
      "Measurement outcome and probability at round 2: 0, 0.9959859721409122.\n",
      "Energy at layer 9, sublayer 2, gate 0: (-6.64719265822259+4.440892098500626e-16j).\n",
      "Fidelity at layer 9, sublayer 2, gate 0: 0.9851479422711092.\n",
      "Pair fidelity at layer 9, sublayer 2, gate 0: 0.9355917337022763.\n",
      "Measurement outcome and probability at round 0: 0, 0.9965996022641822.\n",
      "Measurement outcome and probability at round 1: 0, 0.9969096130563002.\n",
      "Measurement outcome and probability at round 2: 0, 0.9971798082004826.\n",
      "Energy at layer 9, sublayer 2, gate 2: (-6.638501334249071+0j).\n",
      "Fidelity at layer 9, sublayer 2, gate 2: 0.9838249213734362.\n",
      "Pair fidelity at layer 9, sublayer 2, gate 2: 0.9443574410822894.\n",
      "Measurement outcome and probability at round 0: 0, 0.9966737172205912.\n",
      "Measurement outcome and probability at round 1: 0, 0.9969955918797552.\n",
      "Measurement outcome and probability at round 2: 0, 0.9972752181568234.\n",
      "Energy at layer 10, sublayer 0, gate 0: (-6.6291210046449045+0j).\n",
      "Fidelity at layer 10, sublayer 0, gate 0: 0.9824846003993963.\n",
      "Pair fidelity at layer 10, sublayer 0, gate 0: 0.9529610177858228.\n",
      "Measurement outcome and probability at round 0: 0, 0.9929101781964332.\n",
      "Measurement outcome and probability at round 1: 0, 0.9935724009792837.\n",
      "Measurement outcome and probability at round 2: 0, 0.9941519370240378.\n",
      "Energy at layer 10, sublayer 0, gate 2: (-6.6466441406851855+0j).\n",
      "Fidelity at layer 10, sublayer 0, gate 2: 0.9850887979309744.\n",
      "Pair fidelity at layer 10, sublayer 0, gate 2: 0.8679444065025511.\n",
      "Measurement outcome and probability at round 0: 0, 0.9937076789598996.\n",
      "Measurement outcome and probability at round 1: 0, 0.9947504055570002.\n",
      "Measurement outcome and probability at round 2: 0, 0.9955534519559014.\n",
      "Energy at layer 10, sublayer 1, gate 1: (-6.6227906739018+0j).\n",
      "Fidelity at layer 10, sublayer 1, gate 1: 0.9814615108412146.\n",
      "Pair fidelity at layer 10, sublayer 1, gate 1: 0.9525750572662581.\n",
      "Measurement outcome and probability at round 0: 0, 0.986408468834196.\n",
      "Measurement outcome and probability at round 1: 0, 0.9887527171359288.\n",
      "Measurement outcome and probability at round 2: 0, 0.9905632058103229.\n",
      "Energy at layer 10, sublayer 1, gate 3: (-6.642461025555707+0j).\n",
      "Fidelity at layer 10, sublayer 1, gate 3: 0.9843950260987128.\n",
      "Pair fidelity at layer 10, sublayer 1, gate 3: 0.8801865128100602.\n",
      "Measurement outcome and probability at round 0: 0, 0.9950103389464384.\n",
      "Measurement outcome and probability at round 1: 0, 0.9955322841746519.\n",
      "Measurement outcome and probability at round 2: 0, 0.9959832323167146.\n",
      "Energy at layer 10, sublayer 2, gate 0: (-6.6480175060067275+0j).\n",
      "Fidelity at layer 10, sublayer 2, gate 0: 0.9852691425930633.\n",
      "Pair fidelity at layer 10, sublayer 2, gate 0: 0.9354578107423348.\n",
      "Measurement outcome and probability at round 0: 0, 0.9965970488775638.\n",
      "Measurement outcome and probability at round 1: 0, 0.9969066569292124.\n",
      "Measurement outcome and probability at round 2: 0, 0.9971765542773162.\n",
      "Energy at layer 10, sublayer 2, gate 2: (-6.639293076063553+4.440892098500626e-16j).\n",
      "Fidelity at layer 10, sublayer 2, gate 2: 0.983942071248481.\n",
      "Pair fidelity at layer 10, sublayer 2, gate 2: 0.944230563626152.\n"
     ]
    },
    {
     "name": "stderr",
     "output_type": "stream",
     "text": [
      "\n"
     ]
    }
   ],
   "source": [
    "Es_F, Fs_F, Fs_P_F, mos_F, psi_F = HITE(psi_C.reshape([2]*L), 0.05, h, 10, adaptive=True, force_fail=False, verbose=True, seed=-1, correct_iter=3, kill=0.)"
   ]
  },
  {
   "cell_type": "code",
   "execution_count": 151,
   "id": "4a50eebb-74d7-4a83-a8b4-b3633bae3977",
   "metadata": {},
   "outputs": [
    {
     "data": {
      "text/plain": [
       "[0.9060430494946661,\n",
       " 0.961953451261816,\n",
       " 0.974035943972905,\n",
       " 0.978531524479826,\n",
       " 0.980805201051268,\n",
       " 0.9820984675870416,\n",
       " 0.9828712232695088,\n",
       " 0.9833448968974431,\n",
       " 0.9836396824742009,\n",
       " 0.9838249213734362,\n",
       " 0.983942071248481]"
      ]
     },
     "execution_count": 151,
     "metadata": {},
     "output_type": "execute_result"
    }
   ],
   "source": [
    "[Fs_F[i][-1][-1] for i in range(11)]"
   ]
  },
  {
   "cell_type": "markdown",
   "id": "a981a04d-04de-487c-bfce-04426c526cf1",
   "metadata": {},
   "source": [
    "# Average Fidelity"
   ]
  },
  {
   "cell_type": "code",
   "execution_count": 130,
   "id": "79b2469e-7829-466c-a8cd-2601af01fbaa",
   "metadata": {
    "scrolled": true
   },
   "outputs": [
    {
     "name": "stderr",
     "output_type": "stream",
     "text": [
      "100%|██████████| 100/100 [00:11<00:00,  8.97it/s]\n"
     ]
    }
   ],
   "source": [
    "realizations = 100\n",
    "Fs = []\n",
    "for i in tqdm(range(realizations)):\n",
    "    L = 4\n",
    "    psi0 = np.random.rand(2**L) + 1.j * np.random.rand(2**L)\n",
    "    psi0 /= np.linalg.norm(psi0)\n",
    "\n",
    "    Es_C, Fs_C, Fs_P_C, mos_C, psi_C = HITE(psi0.reshape([2]*L), 10, h, 1, adaptive=True, force_fail=False, verbose=False, seed=-1, correct_iter=2)\n",
    "    Es_F, Fs_F, Fs_P_F, mos_F, psi_F = HITE(psi_C.reshape([2]*L), 0.1, h, 5, adaptive=True, force_fail=False, verbose=False, seed=-1, correct_iter=1, kill=0.4)\n",
    "    Es_F2, Fs_F2, Fs_P_F2, mos_F2, psi_F2 = HITE(psi_F.reshape([2]*L), 0.01, h, 50, adaptive=True, force_fail=False, verbose=False, seed=-1, correct_iter=1, kill=0.4)\n",
    "    Fs.append([Fs_C[i][-1][-1] for i in range(2)] + [Fs_F[i][-1][-1] for i in range(1, 6)] + [Fs_F2[i][-1][-1] for i in range(1, 51)])"
   ]
  },
  {
   "cell_type": "code",
   "execution_count": 131,
   "id": "b1f0ed0b-6a08-4fed-a69c-fd6b549dbe32",
   "metadata": {},
   "outputs": [
    {
     "data": {
      "text/plain": [
       "array([0.01330486, 0.90604279, 0.90207619, 0.89521182, 0.89576933,\n",
       "       0.88441479, 0.88684459, 0.88613356, 0.88582088, 0.8871896 ,\n",
       "       0.88677632, 0.88587966, 0.88624032, 0.88552731, 0.88525426,\n",
       "       0.88571245, 0.8858111 , 0.88685333, 0.88772928, 0.8876164 ,\n",
       "       0.88743543, 0.88689327, 0.88773876, 0.88713614, 0.88682254,\n",
       "       0.88690969, 0.8883725 , 0.88800676, 0.88926188, 0.88986699,\n",
       "       0.88968146, 0.88721015, 0.88766213, 0.88638914, 0.88630733,\n",
       "       0.88674954, 0.88729232, 0.8868392 , 0.88744014, 0.88767263,\n",
       "       0.8886242 , 0.88860583, 0.88918754, 0.88875717, 0.8888242 ,\n",
       "       0.88743435, 0.88759152, 0.88845233, 0.88890393, 0.8899622 ,\n",
       "       0.88913122, 0.88878668, 0.88929855, 0.88840191, 0.88808432,\n",
       "       0.88725675, 0.88721251])"
      ]
     },
     "execution_count": 131,
     "metadata": {},
     "output_type": "execute_result"
    }
   ],
   "source": [
    "np.array(Fs).mean(axis=0)"
   ]
  },
  {
   "cell_type": "code",
   "execution_count": 73,
   "id": "20ad1448-e287-40bc-a754-581ce345c6b4",
   "metadata": {},
   "outputs": [
    {
     "data": {
      "text/plain": [
       "array([4.58115479e-01, 7.09574120e-01, 1.51358200e-02, 8.04257258e-01,\n",
       "       1.53343854e-04, 3.37089032e-03, 4.65984892e-01, 3.22595691e-01,\n",
       "       8.95521225e-03, 5.77136166e-01, 5.73182889e-01, 2.83022744e-01,\n",
       "       1.94986603e-03, 4.68099709e-03, 8.28201074e-03, 1.71640201e-01,\n",
       "       8.90512043e-01, 1.36996026e-02, 6.04130586e-01, 3.01124658e-02,\n",
       "       8.95680480e-01, 1.80040970e-02, 3.66661680e-01, 6.10224647e-01,\n",
       "       8.27305146e-01, 2.89903046e-02, 1.90547008e-02, 9.87336468e-01,\n",
       "       7.10821962e-03, 8.87474662e-01, 5.48818573e-02, 7.61686289e-01,\n",
       "       3.62661490e-01, 5.85311769e-01, 7.73800582e-02, 9.66632481e-01,\n",
       "       5.58600530e-01, 5.49799400e-01, 1.66801159e-01, 3.16962431e-01,\n",
       "       2.18620612e-01, 8.28787533e-01, 6.52112630e-01, 9.86023033e-01,\n",
       "       7.13921128e-01, 1.51949363e-01, 6.46372168e-01, 8.02990889e-01,\n",
       "       1.02793627e-02, 1.24256768e-01, 3.58758349e-01, 9.05425873e-01,\n",
       "       1.28948325e-01, 8.26445741e-01, 4.87793479e-01, 7.55590162e-01,\n",
       "       7.09155924e-02, 8.50979986e-01, 9.08082137e-01, 6.12036647e-02,\n",
       "       8.41495977e-01, 9.77716693e-01, 2.18002703e-03, 7.63450812e-01,\n",
       "       2.77185885e-01, 8.02133473e-01, 3.40592406e-02, 2.02300233e-04,\n",
       "       9.31324724e-01, 1.04198367e-02, 9.52983480e-01, 7.86102619e-01,\n",
       "       1.73941470e-01, 6.70688796e-01, 9.57913737e-02, 1.73499919e-01,\n",
       "       7.74883457e-01, 6.17699091e-01, 2.49713923e-01, 7.12676030e-01,\n",
       "       2.61366287e-01, 6.61774934e-01, 3.80235635e-01, 3.18782305e-01,\n",
       "       1.46983795e-01, 6.73683954e-03, 6.53936520e-01, 2.91006448e-03,\n",
       "       3.33924049e-01, 5.65762515e-01, 3.32284214e-01, 1.60889206e-01,\n",
       "       7.01487212e-03, 9.14781153e-02, 9.82999057e-01, 4.20469126e-04,\n",
       "       4.18232212e-01, 1.05974730e-02, 4.99347264e-01, 7.40378782e-01])"
      ]
     },
     "execution_count": 73,
     "metadata": {},
     "output_type": "execute_result"
    }
   ],
   "source": [
    "np.array(Fs)[:,-1]"
   ]
  },
  {
   "cell_type": "code",
   "execution_count": null,
   "id": "8c8f2cdb-6594-4a32-a3d3-f9d296fa0946",
   "metadata": {},
   "outputs": [],
   "source": []
  }
 ],
 "metadata": {
  "kernelspec": {
   "display_name": "DMT",
   "language": "python",
   "name": "dmt"
  },
  "language_info": {
   "codemirror_mode": {
    "name": "ipython",
    "version": 3
   },
   "file_extension": ".py",
   "mimetype": "text/x-python",
   "name": "python",
   "nbconvert_exporter": "python",
   "pygments_lexer": "ipython3",
   "version": "3.12.2"
  }
 },
 "nbformat": 4,
 "nbformat_minor": 5
}
