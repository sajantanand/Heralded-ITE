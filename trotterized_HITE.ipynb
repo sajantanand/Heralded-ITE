{
 "cells": [
  {
   "cell_type": "code",
   "execution_count": 1,
   "id": "8d765a25-ceab-4203-a0a1-5650c94ffdef",
   "metadata": {},
   "outputs": [],
   "source": [
    "import numpy as np\n",
    "import scipy as sp\n",
    "import matplotlib.pyplot as plt\n",
    "from tqdm import tqdm"
   ]
  },
  {
   "cell_type": "markdown",
   "id": "093c2501-e79d-4403-b50e-ee5ab43c988e",
   "metadata": {},
   "source": [
    "# Even-odd Hamiltonian - $L=4$"
   ]
  },
  {
   "cell_type": "code",
   "execution_count": 2,
   "id": "98e2be15-f50b-4109-a78f-766ea51b4481",
   "metadata": {},
   "outputs": [],
   "source": [
    "Z = np.array([[1,0],[0,-1]])\n",
    "Y = np.array([[0,-1.j],[1.j,0]])\n",
    "X = np.array([[0,1],[1,0]])\n",
    "I = np.eye(2)\n",
    "\n",
    "def kron(ops):\n",
    "    op = 1\n",
    "    for o in ops:\n",
    "        op = np.kron(op, o)\n",
    "    return op"
   ]
  },
  {
   "cell_type": "code",
   "execution_count": 3,
   "id": "fa7712a7-b0ca-44ab-82ef-5e4c9405fc1c",
   "metadata": {},
   "outputs": [],
   "source": [
    "# TFI Hamiltonian\n",
    "Jz = 1\n",
    "gx = 1\n",
    "gz = 0\n",
    "h = Jz*np.kron(Z, Z) + gx/2 * (np.kron(X, I) + np.kron(I, X)) + gz/2 * (np.kron(Z, I) + np.kron(I, Z)) "
   ]
  },
  {
   "cell_type": "code",
   "execution_count": 4,
   "id": "da0101f1-5fd6-4297-a4e1-5aba90d3a0f7",
   "metadata": {},
   "outputs": [
    {
     "data": {
      "text/plain": [
       "array([[ 1. ,  0.5,  0.5,  0. ],\n",
       "       [ 0.5, -1. ,  0. ,  0.5],\n",
       "       [ 0.5,  0. , -1. ,  0.5],\n",
       "       [ 0. ,  0.5,  0.5,  1. ]])"
      ]
     },
     "execution_count": 4,
     "metadata": {},
     "output_type": "execute_result"
    }
   ],
   "source": [
    "h"
   ]
  },
  {
   "cell_type": "code",
   "execution_count": 5,
   "id": "f2ba02e7-12e7-4ff7-8183-04f5abdea108",
   "metadata": {},
   "outputs": [
    {
     "name": "stdout",
     "output_type": "stream",
     "text": [
      "[-1.41421356 -1.          1.          1.41421356]\n",
      "-1.4142135623730936\n"
     ]
    }
   ],
   "source": [
    "L, U = np.linalg.eigh(h)\n",
    "GS = U[:,0]\n",
    "print(L)\n",
    "print(GS.conj().T @ h @ GS)"
   ]
  },
  {
   "cell_type": "code",
   "execution_count": 6,
   "id": "0da8190d-0f38-4048-b172-ef06458f38bf",
   "metadata": {},
   "outputs": [],
   "source": [
    "psi0 = np.kron(GS, GS)"
   ]
  },
  {
   "cell_type": "code",
   "execution_count": 7,
   "id": "e0a6a856-3a26-4681-bc16-326c702f8d0e",
   "metadata": {},
   "outputs": [
    {
     "data": {
      "text/plain": [
       "-2.8284271247461845"
      ]
     },
     "execution_count": 7,
     "metadata": {},
     "output_type": "execute_result"
    }
   ],
   "source": [
    "psi0.conj().T @ (np.kron(h, np.eye(4)) + np.kron(np.eye(4), h)) @ psi0"
   ]
  },
  {
   "cell_type": "code",
   "execution_count": 8,
   "id": "eb7a7f8f-e76e-4038-b85e-32a0f99f9c82",
   "metadata": {},
   "outputs": [
    {
     "data": {
      "text/plain": [
       "-2.8284271247461885"
      ]
     },
     "execution_count": 8,
     "metadata": {},
     "output_type": "execute_result"
    }
   ],
   "source": [
    "L[0]*2"
   ]
  },
  {
   "cell_type": "code",
   "execution_count": 9,
   "id": "f062d3f4-5a8f-46ca-aa0e-fafbb3e6367d",
   "metadata": {},
   "outputs": [
    {
     "data": {
      "text/plain": [
       "array([[[[ 0.0732233, -0.1767767],\n",
       "         [-0.1767767,  0.0732233]],\n",
       "\n",
       "        [[-0.1767767,  0.4267767],\n",
       "         [ 0.4267767, -0.1767767]]],\n",
       "\n",
       "\n",
       "       [[[-0.1767767,  0.4267767],\n",
       "         [ 0.4267767, -0.1767767]],\n",
       "\n",
       "        [[ 0.0732233, -0.1767767],\n",
       "         [-0.1767767,  0.0732233]]]])"
      ]
     },
     "execution_count": 9,
     "metadata": {},
     "output_type": "execute_result"
    }
   ],
   "source": [
    "psi0.reshape(2,2,2,2)"
   ]
  },
  {
   "cell_type": "markdown",
   "id": "44b8e594-628c-4c4e-9b60-91a0f13c70d2",
   "metadata": {},
   "source": [
    "1. Construct 3 qubit block encoding\n",
    "2. Apply this to enlarged state of 1.5 * L qubits\n",
    "3. Determine measurement probability from norm of states\n",
    "4. "
   ]
  },
  {
   "cell_type": "code",
   "execution_count": 18,
   "id": "116e1df1-1631-45a3-ae14-e4036b1997ea",
   "metadata": {},
   "outputs": [],
   "source": [
    "# Function that does many steps\n",
    "def HITE(psi, beta, h, max_iter, adaptive=True, force_fail=False, verbose=False, seed=0, periodic=True, correct_iter=3, kill=0):\n",
    "    # psi is L leg tensor\n",
    "    # h is two qubit translationally invariant Hamiltonian term\n",
    "    if seed >= 0:\n",
    "        np.random.seed(seed)\n",
    "    d = h.shape[0]\n",
    "    ell = psi.ndim\n",
    "    \n",
    "    L, U = np.linalg.eigh(h) # Energy eigenbasis\n",
    "    GS = U[:,0]\n",
    "    Ut = U.reshape(2,2,2,2) # o1, o2, i1, i2\n",
    "    if ell % 2 == 0:\n",
    "        # Even number of sites; make pair GS\n",
    "        GSP = kron([GS] * (ell//2))\n",
    "\n",
    "    \"\"\"\n",
    "    Let a be the minimum of the spectrum. We want 1 - exp(-beta (a + shift)) = kill.\n",
    "    So when kill = 0, we want shift = -a; then when we fail a measurement, we kill the ground state.\n",
    "    In general, shift = log(1 - kill) / (-beta) - a\n",
    "    \"\"\"\n",
    "    # Shift spectrum of H to be non-negative with GS energy being 0\n",
    "    assert kill == 0\n",
    "    h_diag = np.diag(L)\n",
    "    shift = np.log(1 - kill) / (-beta) - np.min(L)\n",
    "    h_diag += shift * np.eye(d)\n",
    "    #h_diag -= np.min(L) * np.eye(d)\n",
    "    if verbose:\n",
    "        print(f\"Shifted Spectrum with shift {shift}: {np.diag(h_diag)}.\")\n",
    "    assert np.isclose((U.conj().T @ GS).conj().T @ h_diag @ (U.conj().T @ GS), np.min(L) + shift), GS.conj().T @ h_diag @ GS\n",
    "    \n",
    "    # Make gamma = e^{-beta H_diag)\n",
    "    gamma = sp.linalg.expm(-beta * h_diag)\n",
    "    gammat = gamma.reshape(2,2,2,2)\n",
    "    gamma_bar = np.sqrt(np.eye(d) - gamma**2)\n",
    "    gamma_bart = gamma_bar.reshape(2,2,2,2)\n",
    "    \n",
    "    U_gamma = np.zeros((2*d,2*d), dtype=gamma.dtype)\n",
    "    U_gamma[:d,:d] = gamma\n",
    "    U_gamma[d:,:d] = U_gamma[:d,d:] = gamma_bar\n",
    "    U_gamma[d:,d:] = -gamma\n",
    "    assert np.isclose(np.linalg.norm(U_gamma @ U_gamma.conj().T - np.eye(2*d)), 0.0)\n",
    "\n",
    "    assert periodic==True\n",
    "    h_terms = [h] + [I]*(ell-2)\n",
    "    h_big = kron(h_terms)\n",
    "    h_big = h_big.reshape([2]*(2*ell))\n",
    "    H = 0\n",
    "    for i in range(ell - (not periodic)):\n",
    "        H += h_big\n",
    "        h_big = h_big.transpose(list(range(1, ell)) + [0] + list(range(ell+1, 2*ell)) + [ell])\n",
    "        \n",
    "    H = H.reshape(2**ell, -1)\n",
    "\n",
    "    LW, UW = np.linalg.eigh(H) # Energy eigenbasis\n",
    "    if verbose:\n",
    "        print(f\"GS Energy: {LW[0]}.\")\n",
    "    GSW = UW[:,0]\n",
    "\n",
    "    psiF = psi.flatten()\n",
    "    Es = [[[psiF.conj().T @ H @ psiF]]] # Initial energy\n",
    "    Fs = [[[np.abs(GSW.conj().T @ psiF)**2]]]\n",
    "    Fs_P = [[[np.abs(GSP.conj().T @ psiF)**2]]]\n",
    "    \n",
    "    if verbose:\n",
    "        print(f\"Energy at iteration {0}: {Es[-1]}.\")\n",
    "        print(f\"Fidelity at iteration {0}: {Fs[-1]}.\")\n",
    "        print(f\"Pair fidelity at iteration {0}: {Fs_P[-1]}.\")\n",
    "        \n",
    "    mos = []\n",
    "    def permutation(fail_count, d):\n",
    "        # Define one particular choice of permutation matrix\n",
    "        P = np.eye(d)\n",
    "        if fail_count == 0:\n",
    "            P = np.roll(np.eye(d), 1, axis=1)\n",
    "        else:\n",
    "            P[:-fail_count,:-fail_count] = np.roll(P[:-fail_count,:-fail_count], 1, axis=1)\n",
    "        return P\n",
    "    for j in (tqdm(range(1, max_iter+1)) if verbose else range(1, max_iter+1)):\n",
    "        E_layer = []\n",
    "        F_layer = []\n",
    "        FP_layer = []\n",
    "        mo_layer = []\n",
    "        for i in range(0, ell, 2):\n",
    "            E_gate = []\n",
    "            F_gate = []\n",
    "            FP_gate = []\n",
    "            mo_gate = []\n",
    "            fail_count = 0\n",
    "            #for k in range(4):\n",
    "            k = 0\n",
    "            ci_local = correct_iter\n",
    "            while k < ci_local:\n",
    "                # apply gate to (i, i+1)\n",
    "    \n",
    "                # First move to local 2-site energy eigenbasis.\n",
    "                psi = np.tensordot(Ut.conj(), psi, axes=([0,1],[i,i+1])) # i1, i2, 0, ..., i-1, i+2, ..., L-1\n",
    "                reorder = list(range(2, i+2)) + [0,1] + list(range(i+2, ell))\n",
    "                psi = psi.transpose(reorder)\n",
    "    \n",
    "                gamma_psi = np.tensordot(gammat, psi, axes=([2,3],[i,i+1])) # i1, i2, 0, ..., i-1, i+2, ..., L-1\n",
    "                gamma_psi = gamma_psi.transpose(reorder)\n",
    "                gpF = gamma_psi.flatten()\n",
    "                p0 = np.linalg.norm(gpF)**2\n",
    "                p1 = 1 - p0\n",
    "                if p1 < 1.e-14:\n",
    "                    p1 = 0\n",
    "                    p0 = 1\n",
    "                mo = np.random.choice([0,1], size=1, p=[p0,p1])[0]\n",
    "                if mo == 1:\n",
    "                    # Want to see 3 successful measurements before going on.\n",
    "                    k = 0\n",
    "                    ci_local *= 2\n",
    "                if p1 > 1.e-10 and force_fail:\n",
    "                    mo = 1\n",
    "                mo_gate.append(mo)\n",
    "                if verbose:\n",
    "                    print(f\"Measurement outcome and probability at round {k}: {mo}, {[p0,p1][mo]}.\")\n",
    "    \n",
    "                if mo == 0:\n",
    "                    psi = gamma_psi\n",
    "                else:\n",
    "                    gamma_psi = np.tensordot(gamma_bart, psi, axes=([2,3],[i,i+1])) # i1, i2, 0, ..., i-1, i+2, ..., L-1\n",
    "                    gamma_psi = gamma_psi.transpose(reorder)\n",
    "                    psi = gamma_psi\n",
    "                assert np.isclose(np.linalg.norm(psi)**2, [p0,p1][mo])\n",
    "                psi /= np.linalg.norm(psi)\n",
    "    \n",
    "                if mo == 1 and adaptive:\n",
    "                    # Made measurement error; try to fix\n",
    "                    nP = permutation(fail_count, d)\n",
    "                    assert np.isclose(np.linalg.norm(nP @ nP.conj().T - np.eye(d)), 0.0)\n",
    "                    nP = nP.reshape(2,2,2,2)\n",
    "                    psi = np.tensordot(nP, psi, axes=([2,3],[i,i+1])) # i1, i2, 0, ..., i-1, i+2, ..., L-1\n",
    "                    psi = psi.transpose(reorder)\n",
    "                    fail_count += 1\n",
    "                \n",
    "                # Move back to compoutational basis on 2-qubit subspace\n",
    "                psi = np.tensordot(Ut, psi, axes=([2,3],[i,i+1])) # i1, i2, 0, ..., i-1, i+2, ..., L-1\n",
    "                psi = psi.transpose(reorder)\n",
    "    \n",
    "                psiF = psi.flatten()\n",
    "                E_gate.append(psiF.conj().T @ H @ psiF)\n",
    "                F_gate.append(np.abs(GSW.conj().T @ psiF)**2)\n",
    "                FP_gate.append(np.abs(GSP.conj().T @ psiF)**2)\n",
    "                \n",
    "                if len(E_gate) > 1 and np.abs(E_gate[-1] - E_gate[-2]) < 1.e-8:\n",
    "                    break\n",
    "                k += 1\n",
    "            if verbose:\n",
    "                print(f\"Energy at layer {j}, gate {i+j%2}: {E_gate[-1]}.\")\n",
    "                print(f\"Fidelity at layer {j}, gate {i+j%2}: {F_gate[-1]}.\")\n",
    "                print(f\"Pair fidelity at layer {j}, gate {i+j%2}: {FP_gate[-1]}.\")\n",
    "            E_layer.append(E_gate)\n",
    "            F_layer.append(F_gate)\n",
    "            FP_layer.append(FP_gate)\n",
    "            mo_layer.append(mo_gate)\n",
    "            if len(E_layer) > 1 and np.abs(np.mean(E_layer[-1]) - np.mean(E_layer[-2])) < 1.e-8:\n",
    "                break\n",
    "        Es.append(E_layer)\n",
    "        Fs.append(F_layer)\n",
    "        Fs_P.append(FP_layer)\n",
    "        mos.append(mo_layer)\n",
    "        if len(Es) > 2 and np.abs(np.mean(Es[-1][-1]) - np.mean(Es[-2][-1])) < 1.e-8:\n",
    "            break\n",
    "        psi = psi.transpose(np.roll(list(range(ell)), 1))\n",
    "\n",
    "    return Es, Fs, Fs_P, mos, psi"
   ]
  },
  {
   "cell_type": "code",
   "execution_count": 21,
   "id": "0b82735e-17ff-4c26-beb4-536c8b80c935",
   "metadata": {},
   "outputs": [],
   "source": [
    "L = 10\n",
    "psi0 = np.random.rand(2**L) + 1.j * np.random.rand(2**L)\n",
    "psi0 /= np.linalg.norm(psi0)"
   ]
  },
  {
   "cell_type": "code",
   "execution_count": 22,
   "id": "cbe2ea87-b17e-4894-a79f-59c6712eefb5",
   "metadata": {
    "scrolled": true
   },
   "outputs": [
    {
     "name": "stdout",
     "output_type": "stream",
     "text": [
      "Shifted Spectrum with shift 1.4142135623730943: [0.         0.41421356 2.41421356 2.82842712].\n",
      "GS Energy: -12.784906442999315.\n",
      "Energy at iteration 0: [[(7.415723523898057+4.440892098500626e-16j)]].\n",
      "Fidelity at iteration 0: [[0.00010989005408390036]].\n",
      "Pair fidelity at iteration 0: [[3.186819488254047e-05]].\n"
     ]
    },
    {
     "name": "stderr",
     "output_type": "stream",
     "text": [
      "  0%|          | 0/1 [00:00<?, ?it/s]"
     ]
    },
    {
     "name": "stdout",
     "output_type": "stream",
     "text": [
      "Measurement outcome and probability at round 0: 1, 0.8271843767730228.\n",
      "Measurement outcome and probability at round 1: 0, 0.07317074101812956.\n",
      "Measurement outcome and probability at round 2: 0, 0.9997531771046239.\n",
      "Measurement outcome and probability at round 3: 0, 0.9999999376725478.\n",
      "Measurement outcome and probability at round 4: 0, 0.9999999999842624.\n",
      "Measurement outcome and probability at round 5: 0, 1.\n",
      "Energy at layer 1, gate 1: (-2.133497585340458+0j).\n",
      "Fidelity at layer 1, gate 1: 0.00010913093995640505.\n",
      "Pair fidelity at layer 1, gate 1: 0.0017187670414162022.\n",
      "Measurement outcome and probability at round 0: 1, 0.7479862391280999.\n",
      "Measurement outcome and probability at round 0: 1, 0.6542815450759996.\n",
      "Measurement outcome and probability at round 1: 0, 0.5716281880078665.\n",
      "Measurement outcome and probability at round 2: 0, 0.9998108118373237.\n",
      "Measurement outcome and probability at round 3: 0, 0.9999999522291619.\n",
      "Measurement outcome and probability at round 4: 0, 0.9999999999879381.\n"
     ]
    },
    {
     "name": "stderr",
     "output_type": "stream",
     "text": [
      "100%|██████████| 1/1 [00:00<00:00,  7.38it/s]"
     ]
    },
    {
     "name": "stdout",
     "output_type": "stream",
     "text": [
      "Measurement outcome and probability at round 5: 0, 1.\n",
      "Energy at layer 1, gate 3: (-4.222703061185525+1.1102230246251565e-16j).\n",
      "Fidelity at layer 1, gate 3: 0.0017390236390034748.\n",
      "Pair fidelity at layer 1, gate 3: 0.012849121913701635.\n",
      "Measurement outcome and probability at round 0: 1, 0.8194907548611893.\n",
      "Measurement outcome and probability at round 1: 0, 0.37449140703725475.\n",
      "Measurement outcome and probability at round 2: 0, 0.9997771450991988.\n",
      "Measurement outcome and probability at round 3: 0, 0.9999999437262695.\n",
      "Measurement outcome and probability at round 4: 0, 0.9999999999857911.\n",
      "Measurement outcome and probability at round 5: 0, 1.\n",
      "Energy at layer 1, gate 5: (-6.604108484076782-5.551115123125783e-16j).\n",
      "Fidelity at layer 1, gate 5: 0.03432381883560515.\n",
      "Pair fidelity at layer 1, gate 5: 0.08298962973414248.\n",
      "Measurement outcome and probability at round 0: 1, 0.7050219811458853.\n",
      "Measurement outcome and probability at round 0: 1, 0.5938776722482955.\n",
      "Measurement outcome and probability at round 1: 0, 0.7222047051606355.\n",
      "Measurement outcome and probability at round 2: 0, 0.999902892833337.\n",
      "Measurement outcome and probability at round 3: 0, 0.9999999754822718.\n",
      "Measurement outcome and probability at round 4: 0, 0.9999999999938076.\n",
      "Measurement outcome and probability at round 5: 0, 1.\n",
      "Energy at layer 1, gate 7: (-8.436150035110908+8.881784197001252e-16j).\n",
      "Fidelity at layer 1, gate 7: 0.008314710052244722.\n",
      "Pair fidelity at layer 1, gate 7: 0.017213688871456887.\n",
      "Measurement outcome and probability at round 0: 1, 0.9826237752036099.\n",
      "Measurement outcome and probability at round 1: 0, 0.65503943509406.\n",
      "Measurement outcome and probability at round 2: 0, 0.9999960581176253.\n",
      "Measurement outcome and probability at round 3: 0, 0.9999999990048383.\n",
      "Energy at layer 1, gate 9: (-10.606601717797911+0j).\n",
      "Fidelity at layer 1, gate 9: 0.46092785107804685.\n",
      "Pair fidelity at layer 1, gate 9: 0.9999999999997418.\n"
     ]
    },
    {
     "name": "stderr",
     "output_type": "stream",
     "text": [
      "\n"
     ]
    }
   ],
   "source": [
    "Es_C, Fs_C, Fs_P_C, mos_C, psi_C = HITE(psi0.reshape([2]*L), 10, h, 1, adaptive=True, force_fail=False, verbose=True, seed=-1, correct_iter=3, kill=0.)"
   ]
  },
  {
   "cell_type": "code",
   "execution_count": 23,
   "id": "5689b088-161a-4dcd-94a8-4397c1b2f74c",
   "metadata": {},
   "outputs": [
    {
     "data": {
      "text/plain": [
       "[[0.00010989005408390036]]"
      ]
     },
     "execution_count": 23,
     "metadata": {},
     "output_type": "execute_result"
    }
   ],
   "source": [
    "Fs_C[0]"
   ]
  },
  {
   "cell_type": "code",
   "execution_count": 24,
   "id": "074c49f4-815c-428a-87a7-6716ca9d085f",
   "metadata": {},
   "outputs": [
    {
     "data": {
      "text/plain": [
       "[0.00010989005408390036, 0.46092785107804685]"
      ]
     },
     "execution_count": 24,
     "metadata": {},
     "output_type": "execute_result"
    }
   ],
   "source": [
    "[Fs_C[i][-1][-1] for i in range(2)]"
   ]
  },
  {
   "cell_type": "code",
   "execution_count": 25,
   "id": "ce68ee8b-bbd5-4b63-aea8-efc3191d9cd6",
   "metadata": {
    "scrolled": true
   },
   "outputs": [],
   "source": [
    "Es_F, Fs_F, Fs_P_F, mos_F, psi_F = HITE(psi_C.reshape([2]*L), 0.01, h, 40, adaptive=True, force_fail=False, verbose=False, seed=-1, correct_iter=3)"
   ]
  },
  {
   "cell_type": "code",
   "execution_count": 26,
   "id": "4a50eebb-74d7-4a83-a8b4-b3633bae3977",
   "metadata": {},
   "outputs": [
    {
     "data": {
      "text/plain": [
       "[0.46092785107804696,\n",
       " 0.5199058731566132,\n",
       " 0.5174631424508787,\n",
       " 0.5731025313619854,\n",
       " 0.5687526146131783,\n",
       " 0.6201676507945638,\n",
       " 0.614488066162174,\n",
       " 0.6612670808738375,\n",
       " 0.654796524925994,\n",
       " 0.6968763915636867,\n",
       " 0.6900706859323733,\n",
       " 0.7276194177963915,\n",
       " 0.7208357413310842,\n",
       " 0.7541579655883047,\n",
       " 0.7476571557781364,\n",
       " 0.7771252443874178,\n",
       " 0.7710836317465982,\n",
       " 0.7970913728551416,\n",
       " 0.7916162571151756,\n",
       " 0.8145499877840539,\n",
       " 0.8096952476222824,\n",
       " 0.8299174457099188,\n",
       " 0.8256975032906713,\n",
       " 0.8435387257512837,\n",
       " 0.8399401815098976,\n",
       " 0.8556962856943712,\n",
       " 0.8526871536464966,\n",
       " 0.8666196643577486,\n",
       " 0.8641564384406311,\n",
       " 0.8764946421566686,\n",
       " 0.8745275379943049,\n",
       " 0.885471402849045,\n",
       " 0.8839481332592817,\n",
       " 0.8936715069564749,\n",
       " 0.8925399162796321,\n",
       " 0.9011936865332721,\n",
       " 0.9004035182080063,\n",
       " 0.90811856794849,\n",
       " 0.9076225870598742,\n",
       " 0.9145124673026841,\n",
       " 0.9142671121011962]"
      ]
     },
     "execution_count": 26,
     "metadata": {},
     "output_type": "execute_result"
    }
   ],
   "source": [
    "[Fs_F[i][-1][-1] for i in range(41)]"
   ]
  },
  {
   "cell_type": "markdown",
   "id": "a981a04d-04de-487c-bfce-04426c526cf1",
   "metadata": {},
   "source": [
    "# Average Fidelity"
   ]
  },
  {
   "cell_type": "code",
   "execution_count": 32,
   "id": "79b2469e-7829-466c-a8cd-2601af01fbaa",
   "metadata": {
    "scrolled": true
   },
   "outputs": [
    {
     "name": "stderr",
     "output_type": "stream",
     "text": [
      "  7%|▋         | 7/100 [00:03<00:43,  2.13it/s]\n"
     ]
    },
    {
     "ename": "KeyboardInterrupt",
     "evalue": "",
     "output_type": "error",
     "traceback": [
      "\u001b[0;31m---------------------------------------------------------------------------\u001b[0m",
      "\u001b[0;31mKeyboardInterrupt\u001b[0m                         Traceback (most recent call last)",
      "Cell \u001b[0;32mIn[32], line 9\u001b[0m\n\u001b[1;32m      6\u001b[0m psi0 \u001b[38;5;241m/\u001b[39m\u001b[38;5;241m=\u001b[39m np\u001b[38;5;241m.\u001b[39mlinalg\u001b[38;5;241m.\u001b[39mnorm(psi0)\n\u001b[1;32m      8\u001b[0m Es_C, Fs_C, Fs_P_C, mos_C, psi_C \u001b[38;5;241m=\u001b[39m HITE(psi0\u001b[38;5;241m.\u001b[39mreshape([\u001b[38;5;241m2\u001b[39m]\u001b[38;5;241m*\u001b[39mL), \u001b[38;5;241m0.5\u001b[39m, h, \u001b[38;5;241m10\u001b[39m, adaptive\u001b[38;5;241m=\u001b[39m\u001b[38;5;28;01mTrue\u001b[39;00m, force_fail\u001b[38;5;241m=\u001b[39m\u001b[38;5;28;01mFalse\u001b[39;00m, verbose\u001b[38;5;241m=\u001b[39m\u001b[38;5;28;01mFalse\u001b[39;00m, seed\u001b[38;5;241m=\u001b[39m\u001b[38;5;241m-\u001b[39m\u001b[38;5;241m1\u001b[39m, correct_iter\u001b[38;5;241m=\u001b[39m\u001b[38;5;241m2\u001b[39m)\n\u001b[0;32m----> 9\u001b[0m Es_F, Fs_F, Fs_P_F, mos_F, psi_F \u001b[38;5;241m=\u001b[39m HITE(psi_C\u001b[38;5;241m.\u001b[39mreshape([\u001b[38;5;241m2\u001b[39m]\u001b[38;5;241m*\u001b[39mL), \u001b[38;5;241m0.01\u001b[39m, h, \u001b[38;5;241m40\u001b[39m, adaptive\u001b[38;5;241m=\u001b[39m\u001b[38;5;28;01mTrue\u001b[39;00m, force_fail\u001b[38;5;241m=\u001b[39m\u001b[38;5;28;01mFalse\u001b[39;00m, verbose\u001b[38;5;241m=\u001b[39m\u001b[38;5;28;01mFalse\u001b[39;00m, seed\u001b[38;5;241m=\u001b[39m\u001b[38;5;241m-\u001b[39m\u001b[38;5;241m1\u001b[39m, correct_iter\u001b[38;5;241m=\u001b[39m\u001b[38;5;241m10\u001b[39m)\n\u001b[1;32m     10\u001b[0m Fs\u001b[38;5;241m.\u001b[39mappend([Fs_C[i][\u001b[38;5;241m-\u001b[39m\u001b[38;5;241m1\u001b[39m][\u001b[38;5;241m-\u001b[39m\u001b[38;5;241m1\u001b[39m] \u001b[38;5;28;01mfor\u001b[39;00m i \u001b[38;5;129;01min\u001b[39;00m \u001b[38;5;28mrange\u001b[39m(\u001b[38;5;241m11\u001b[39m)] \u001b[38;5;241m+\u001b[39m [Fs_F[i][\u001b[38;5;241m-\u001b[39m\u001b[38;5;241m1\u001b[39m][\u001b[38;5;241m-\u001b[39m\u001b[38;5;241m1\u001b[39m] \u001b[38;5;28;01mfor\u001b[39;00m i \u001b[38;5;129;01min\u001b[39;00m \u001b[38;5;28mrange\u001b[39m(\u001b[38;5;241m1\u001b[39m, \u001b[38;5;241m41\u001b[39m)])\n",
      "Cell \u001b[0;32mIn[10], line 133\u001b[0m, in \u001b[0;36mHITE\u001b[0;34m(psi, beta, h, max_iter, adaptive, force_fail, verbose, seed, periodic, correct_iter)\u001b[0m\n\u001b[1;32m    130\u001b[0m     fail_count \u001b[38;5;241m+\u001b[39m\u001b[38;5;241m=\u001b[39m \u001b[38;5;241m1\u001b[39m\n\u001b[1;32m    132\u001b[0m \u001b[38;5;66;03m# Move back to compoutational basis on 2-qubit subspace\u001b[39;00m\n\u001b[0;32m--> 133\u001b[0m psi \u001b[38;5;241m=\u001b[39m np\u001b[38;5;241m.\u001b[39mtensordot(Ut, psi, axes\u001b[38;5;241m=\u001b[39m([\u001b[38;5;241m2\u001b[39m,\u001b[38;5;241m3\u001b[39m],[i,i\u001b[38;5;241m+\u001b[39m\u001b[38;5;241m1\u001b[39m])) \u001b[38;5;66;03m# i1, i2, 0, ..., i-1, i+2, ..., L-1\u001b[39;00m\n\u001b[1;32m    134\u001b[0m psi \u001b[38;5;241m=\u001b[39m psi\u001b[38;5;241m.\u001b[39mtranspose(reorder)\n\u001b[1;32m    136\u001b[0m psiF \u001b[38;5;241m=\u001b[39m psi\u001b[38;5;241m.\u001b[39mflatten()\n",
      "File \u001b[0;32m~/miniconda3/envs/DMT/lib/python3.12/site-packages/numpy/core/numeric.py:1121\u001b[0m, in \u001b[0;36mtensordot\u001b[0;34m(a, b, axes)\u001b[0m\n\u001b[1;32m   1119\u001b[0m at \u001b[38;5;241m=\u001b[39m a\u001b[38;5;241m.\u001b[39mtranspose(newaxes_a)\u001b[38;5;241m.\u001b[39mreshape(newshape_a)\n\u001b[1;32m   1120\u001b[0m bt \u001b[38;5;241m=\u001b[39m b\u001b[38;5;241m.\u001b[39mtranspose(newaxes_b)\u001b[38;5;241m.\u001b[39mreshape(newshape_b)\n\u001b[0;32m-> 1121\u001b[0m res \u001b[38;5;241m=\u001b[39m dot(at, bt)\n\u001b[1;32m   1122\u001b[0m \u001b[38;5;28;01mreturn\u001b[39;00m res\u001b[38;5;241m.\u001b[39mreshape(olda \u001b[38;5;241m+\u001b[39m oldb)\n",
      "\u001b[0;31mKeyboardInterrupt\u001b[0m: "
     ]
    }
   ],
   "source": [
    "realizations = 100\n",
    "Fs = []\n",
    "for i in tqdm(range(realizations)):\n",
    "    L = 6\n",
    "    psi0 = np.random.rand(2**L) + 1.j * np.random.rand(2**L)\n",
    "    psi0 /= np.linalg.norm(psi0)\n",
    "\n",
    "    Es_C, Fs_C, Fs_P_C, mos_C, psi_C = HITE(psi0.reshape([2]*L), 0.5, h, 10, adaptive=True, force_fail=False, verbose=False, seed=-1, correct_iter=2)\n",
    "    Es_F, Fs_F, Fs_P_F, mos_F, psi_F = HITE(psi_C.reshape([2]*L), 0.01, h, 40, adaptive=True, force_fail=False, verbose=False, seed=-1, correct_iter=10)\n",
    "    Fs.append([Fs_C[i][-1][-1] for i in range(11)] + [Fs_F[i][-1][-1] for i in range(1, 41)])"
   ]
  },
  {
   "cell_type": "code",
   "execution_count": 29,
   "id": "b1f0ed0b-6a08-4fed-a69c-fd6b549dbe32",
   "metadata": {},
   "outputs": [
    {
     "data": {
      "text/plain": [
       "array([0.00531663, 0.48372955, 0.51139892, 0.53560353, 0.51323824,\n",
       "       0.52469358, 0.5304533 , 0.54277341, 0.58533251, 0.58085652,\n",
       "       0.57466707, 0.49169188, 0.48459473, 0.50220049, 0.49807889,\n",
       "       0.4913282 , 0.48252948, 0.46600205, 0.47351736, 0.42948231,\n",
       "       0.41413027, 0.3932671 , 0.36148703, 0.33290447, 0.36592349,\n",
       "       0.34083603, 0.33982806, 0.35348386, 0.38441304, 0.38078604,\n",
       "       0.37798795, 0.38426731, 0.3979465 , 0.39514591, 0.40939987,\n",
       "       0.40944891, 0.40717433, 0.39238007, 0.43059327, 0.43549698,\n",
       "       0.44238484, 0.42347075, 0.41190311, 0.38930153, 0.36885224,\n",
       "       0.36936463, 0.3492123 , 0.34523826, 0.36958685, 0.37870701,\n",
       "       0.37065235])"
      ]
     },
     "execution_count": 29,
     "metadata": {},
     "output_type": "execute_result"
    }
   ],
   "source": [
    "np.array(Fs).mean(axis=0)"
   ]
  },
  {
   "cell_type": "code",
   "execution_count": 30,
   "id": "20ad1448-e287-40bc-a754-581ce345c6b4",
   "metadata": {},
   "outputs": [
    {
     "data": {
      "text/plain": [
       "array([9.58569388e-01, 8.68510058e-01, 4.09116337e-01, 9.18402991e-01,\n",
       "       9.91720214e-02, 4.56726802e-01, 9.86719472e-01, 5.86303256e-02,\n",
       "       3.51168811e-01, 3.64285837e-01, 6.61044317e-02, 3.84360722e-01,\n",
       "       7.82052157e-01, 9.95760362e-01, 7.04077777e-01, 1.26801930e-01,\n",
       "       8.32901351e-01, 1.95106413e-03, 5.67694757e-01, 2.01519649e-01,\n",
       "       1.30428180e-01, 2.68632335e-01, 4.90867603e-03, 6.20451645e-02,\n",
       "       9.04287065e-03, 1.70066361e-01, 8.84850182e-01, 3.25425922e-02,\n",
       "       5.08131935e-01, 1.48976801e-03, 9.69473894e-01, 6.97219440e-01,\n",
       "       3.82011234e-01, 6.18164613e-02, 1.43767441e-01, 1.13465399e-01,\n",
       "       9.32998692e-02, 1.32687180e-01, 7.80319815e-01, 9.75825691e-01,\n",
       "       5.96086609e-02, 2.91804941e-01, 5.47992730e-02, 6.84146049e-02,\n",
       "       7.11527201e-01, 3.99766220e-01, 9.51070643e-01, 1.39710449e-01,\n",
       "       4.30648130e-01, 6.82977350e-02, 7.50325082e-02, 2.14452245e-01,\n",
       "       6.51055564e-01, 8.42816371e-01, 6.76723291e-03, 1.54971235e-01,\n",
       "       2.58801603e-01, 7.53229563e-02, 2.02672432e-02, 4.14908413e-02,\n",
       "       3.13632254e-02, 5.85656602e-01, 3.44965973e-01, 9.16518891e-01,\n",
       "       9.92825903e-01, 6.35721611e-05, 2.81030022e-01, 8.73644025e-01,\n",
       "       1.68705228e-02, 1.63766794e-01, 5.78086621e-01, 2.27279114e-02,\n",
       "       4.16717632e-02, 2.98139232e-01, 5.16705261e-05, 1.22922035e-01,\n",
       "       6.08085260e-01, 1.74497250e-01, 2.11380841e-01, 2.90067254e-01,\n",
       "       9.95161428e-01, 9.97630711e-01, 3.66045038e-02, 1.12374413e-01,\n",
       "       2.97432716e-01, 1.02362471e-03, 4.78396332e-01, 5.60566727e-01,\n",
       "       3.16070535e-01, 9.92874905e-01, 3.73171764e-01, 4.35292206e-05,\n",
       "       2.84608733e-01, 2.15820358e-03, 9.98624717e-01, 4.63372841e-01,\n",
       "       3.47111544e-01, 2.64220778e-03, 2.00163833e-01, 9.77689936e-01])"
      ]
     },
     "execution_count": 30,
     "metadata": {},
     "output_type": "execute_result"
    }
   ],
   "source": [
    "np.array(Fs)[:,-1]"
   ]
  }
 ],
 "metadata": {
  "kernelspec": {
   "display_name": "DMT",
   "language": "python",
   "name": "dmt"
  },
  "language_info": {
   "codemirror_mode": {
    "name": "ipython",
    "version": 3
   },
   "file_extension": ".py",
   "mimetype": "text/x-python",
   "name": "python",
   "nbconvert_exporter": "python",
   "pygments_lexer": "ipython3",
   "version": "3.12.2"
  }
 },
 "nbformat": 4,
 "nbformat_minor": 5
}
